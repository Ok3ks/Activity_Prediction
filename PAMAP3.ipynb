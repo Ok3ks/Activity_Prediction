{
  "cells": [
    {
      "cell_type": "markdown",
      "metadata": {
        "id": "DgeA1dArrwJ1"
      },
      "source": [
        "- #**ABSTRACT**\n",
        "\n",
        "The main aim of this report is to develop actionable insights which can help predict the type of physical activity carried out by an individual depending on the heart rate and the duration of activity. Application can be seen in real-life scenario where subjects use wearable technologies such as smartwatches which record user movement.\n",
        "\n",
        "To carry out this research, The PAMAP2 Physical Activity Monitoring dataset was used. The dataset consists 9 subjects participating in 12 different physical activities including: lying, sitting, standing, walking, running, cycling, Nordic walking, watching TV, computer work, car driving, ascending stairs, descending stairs, vacuum cleaning, ironing,folding laundry, house cleaning, playing soccer, rope jumping and other transient activities.\n",
        "\n",
        "The multivariate nature of the data was compressed by the use of dimensisonality reduction. Dimensionality reduction was performed with the sklearn.decomp library and two techniques were used to model this system.\n",
        "\n",
        "The Two techniques used to model this dataset include a supervised learning technique which is the logistic regression and the unsupervised learning technique which is the K-Means clustering.\n",
        "\n",
        "The main finding from the data exploration is that the heart rate and the duration of activities are not sufficient to accurately predict the physical activity being performed, only in partnership with other sensory measurements can predictions be made to a level of certainty.\n",
        "\n",
        "Recommendations include increased sensory measurements, height measurements and distance measurements to improve the predictive accuracy of the models.\n",
        "\n",
        "\n",
        " **INTRODUCTION**\n",
        "\n",
        "The objective of this report is to gain actionable insights from the PAMAP2 dataset, which helps in determining the amount and type of physical activity carried out by an individual. The PAMAP2 Protocol dataset is a labelled dataset obtained from 9 subjects of different demographics.\n",
        "\n",
        "The type of physical activity which can be predicted is restricted to : lying, sitting, standing, walking, running, cycling, Nordic walking, watching TV, computer work, car driving, ascending stairs, descending stairs, vacuum cleaning, ironing,folding laundry, house cleaning, playing soccer, rope jumping.\n",
        "\n",
        "Insights from this analysis will inform our design process for the development of hardware/software which can carry out this prediction to a satisfactory level of certainty.\n",
        "\n",
        " **LITERATURE REVIEW**\n",
        "\n",
        "- **Data Collection**\n",
        "\n",
        "Inertial measurement units were collected with 3 Colibri wireless IMUs with a sampling frequency of 100Hz positioned over the wrist of the dominant arm, on the chest, and on the dominant side of the ankle.\n",
        "\n",
        "Heart rate readings were taken with the HR monitor: BM-CS5SR from BM innovations GmbH with a sampling frequency of 9Hz.\n",
        "\n",
        "9 subjects including 1 female and 8 males aged between 23-30 years with a BMI between 22kgm-2 and 27kgm-2 performed 12 different activities(lying, sitting, standing, walking, running, cycling, Nordic walking, watching TV, computer work, car driving, ascending stairs, descending stairs, vacuum cleaning, ironing,folding laundry, house cleaning, playing soccer, rope jumping.). The activityID was labelled through a GUI running on the Viliv S5 UMPC.\n",
        "\n",
        "Missing data occuring in the dataset are due to problems with hardware setup, and a frequency mismatch between Colibri wireless IMUs which takes readings every 0.01s and the heart rate monitor which takes readings every 0.1s. There was also a rare case of data dropping due to the wireless sensors.\n",
        "\n",
        "  - **Data Format**\n",
        "\n",
        "The initial unwrangled,labelled data from all the subjects representing metrics such as the timestamp,activity ID, heart rate and various IMU sensory data for the hand,chest and ankle is combined into 1 data file per subject per session,as text-files.\n",
        "\n",
        "This dataset enables us to formulate a model which  predicts the physical activiity a subject has engaged in to a level of certainty.\n",
        "\n",
        "**METHODS**\n",
        "\n",
        "  - **Data preprocessing**\n",
        "\n",
        "Each entry in a file was opened, cleaned and partitioned before being ultimately appended to one list. The need for preprocessing can not be overemphasized. Because this dataset is a raw text file, it contains tokens which have to be removed before analysis can take place. Tokens such as '\\n' present in the file were replaced with \",\" using a custom regex definiton.\n",
        "\n",
        "Noting that each line in a file is an entry for a particular event. The line was partitioned into 54 individual elements using a .split(\" \") command. The output of this preprocessing step for all files is a list of lists which can be easily read into a dataframe using a pandas library.\n",
        "\n",
        "The pandas library is used to convert this file into a dataframe, with the appropriate columns named and included. This aids data exploration and analysis.\n",
        "\n",
        "Before analysis and exploration, the entries to the dataframe were cleaned .All NaN values are removed, and the data types of each column were converted to a float type. Transient activities with activity ID of 0 are also excluded from analysis.\n",
        "\n",
        "  - **Data Splitting**\n",
        "\n",
        "The dataset was shuffled for randomization and further split into a train set and test set in the ratio 70:30 . The reason for this is to prevent overfitting/underfitting and to also have a portion of the dataset to evaluate the accuracy of the models created.\n",
        "\n",
        "A 'duration' column created from the timestamps to account for the time of each activity was added to the dataframe. \n",
        "\n",
        "  - **Exploratory Data Analysis**\n",
        "\n",
        "Exploratory Data Analysis carried out includes: \n",
        "\n",
        "i) The correlation between the each of the measurement taken per event was investigated. This is the same as making a correlation plot between the columns  of the dataframe and displayed with a seaborn heatmap.\n",
        "\n",
        "ii) The distribution of the heart rates within subjects per activity. This was obtained using a boxplot and displayed with a facetGrid.\n",
        "\n",
        "iii)The density and count distribution of heart rate. This was displayed with a histogram and a kernel density plot.\n",
        "\n",
        "iv)Mean heart rate across activities to examine trend by activity. This was displayed with a bar plot.\n",
        "\n",
        "v)Total duration across activities to examine trend by activity. This was displayed with a bar plot.\n",
        "\n",
        "vi)The Inertial Measurement Units(IMU) for the hand across activities to examine trend by activity. This was displayed with a bar plot.\n",
        "\n",
        "vii)The inertial Measure Units (IMU) for the chest across activities to examine trend by activity. This was displayed with a bar plot.\n",
        "\n",
        "viii)The inertial Measure Units (IMU) for the ankle across activities to examine trend by activity. This was displayed with a bar plot.\n",
        "\n",
        "x) The range of distribution of the heart rate across activity IDs. This was displayed with a scatterplot. \n",
        "\n",
        "x) The nature of the relationship between the heart rate and the activity ID. This was done using a regression plot with various orders.\n",
        "\n",
        "- **Hypothesis Testing**\n",
        "\n",
        "The hypotheses tested includes:\n",
        "\n",
        "- the relationship between heart rate and the duration of activities performed.\n",
        "\n",
        "- the relationship between the duration and activities performed.\n",
        "\n",
        "**Modelling**\n",
        "\n",
        "i) XGBoost: XGboost is a tabular modelling algorithm which achieves state of art on tabular data. Inherent in its algorithm, it handles missing data, imbalanced classes accurately with little need for upsampling and imputation. It also achieves the best result on the PAMAP3 Dataset\n",
        "\n",
        "ii) Dimensionality reduction\n",
        "\n",
        "Dimensionality reduction is used to reduce the features representing an object of interest. The benefit includes faster computational time with less features to compute while still retaining correlation between features. A decomposed dataset gives a broad outlook on the relationship between dependent variable and independent variables.\n",
        "\n",
        "In this case, we have several columns of different measurements which measures the state of a subject while performing an activity. Dimensionality reduction of both the train set and test set was performed using the sklearn.decomp library. Both sets of data were decomposed into two principal components\n",
        "\n",
        "The activity ID's of the test and train set were ignored during decomposition because it is the dependant variable  being investigated with other independent variable, including it skews the data.\n",
        "\n",
        "iii) Logistic Regression\n",
        "\n",
        "Logistic Regression is a supervised learning method. This model is a form of predictive analysis used to predict future data based on old data. In this case, it helps solve the problem of classification of activities based on sensory measurements such as the heart rate, duration.With the aim of finding a predicted activity from these meaasurements, a Logistic Regression model from a sklearn.linear_model library was initialised, fitted and transformed with the decomposed train set data\n",
        "\n",
        "Model training occurs on the train set. To prevent overfitting/underfitting, multiple models were created and the respective model score evaluated.\n",
        "\n",
        "\n",
        "iv) Clustering\n",
        "\n",
        "In addition to logistic regression, another model was created to predict activities based on the heart rate and duration of activities.This model employs an unsupervised approach.\n",
        "\n",
        "Gaining insights from using an unsupervised approach can be done with various methods. The method used in this research is Clustering. As Clustering is  performed on unsupervised dataset, all labels(activityID) were dropped. K-means Clustering was performed and the choice  of this technique was informed by the fact that the number of clusters- equal to the number of physical activities, is already known. Since the number of clusters is already predetermined, K-Means Clustering is preferred over Aggregated clustering. K-Means reduces the computational overhead compared to Aggregated clustering.\n",
        "\n",
        "The quality of the clustering obtained was evaluated independently using the silhouette score. The silhouette score measures how well each data point has been classified, with a score ranging from -1 to 1. A score of +1 means samples have been assigned to the right clusters, while a score of -1 means samples have been assigned to the wrong clusters\n",
        "\n",
        "A K-means model was initialised with 12 clusters, fitted and transformed with the decomposed train  set data. This model was then tested on the corresponding decomposed test set data to predict the probable activityID of each event in the test set. The results obtained from the model however is of a different set of values compared to the activity ID's. To solve this problem, a function was created to interpolate the values to match the set of values of the activity ID. This step is a necessary one before the evaluation of the accuracy of the K-means model.\n",
        "\n",
        "iv) Model Selection\n",
        "\n",
        "The accuracy and confusion matrix of the models created are compared to assess the preferred model. XGBoost provided the highest accuracy on the test set with 97.6%"
      ]
    },
    {
      "cell_type": "markdown",
      "metadata": {
        "id": "LWSGFk0ynNRj"
      },
      "source": [
        "#**RESULTS AND DISCUSSION**"
      ]
    },
    {
      "cell_type": "code",
      "execution_count": null,
      "metadata": {
        "colab": {
          "base_uri": "https://localhost:8080/"
        },
        "id": "71_duFLWYcXj",
        "outputId": "e1bbbe07-df73-4222-db8c-5a0a6399bbff"
      },
      "outputs": [
        {
          "output_type": "stream",
          "name": "stdout",
          "text": [
            "Mounted at /content/drive\n"
          ]
        }
      ],
      "source": [
        "from google.colab import drive\n",
        "drive.mount('/content/drive', force_remount= True)"
      ]
    },
    {
      "cell_type": "code",
      "execution_count": null,
      "metadata": {
        "id": "YROviT3x4W85"
      },
      "outputs": [],
      "source": [
        "def add_content(afile):\n",
        "    \"\"\"Adds the content of a text data file to the DataFrame\"\"\"\n",
        "    for line in afile:\n",
        "        line = re.sub(\"(\\n)\",\"\",line)\n",
        "        content.append(line.split(' '))\n",
        "\n",
        "def accuracy(list1,list2):\n",
        "  \"\"\"Computes the similarity of two lists in terms of accuracy- used to test models\"\"\"\n",
        "  correct = 0\n",
        "  incorrect = 0\n",
        "  for a,b in zip(list1,list2):\n",
        "    if a == b:\n",
        "      correct +=1\n",
        "    else:\n",
        "      incorrect +=1\n",
        "\n",
        "  accuracy = (correct/(correct + incorrect))\n",
        "  return accuracy\n",
        "\n",
        "def conv_to_clusternumbers(labels):\n",
        "  \"\"\"Interpolates between the activity ID and the obtained value from cluster, to enable accurate calculation of accuracy\"\"\"\n",
        "  new_label = []\n",
        "  for item in labels:\n",
        "    if item == 0:\n",
        "      new_label.append(1)\n",
        "    elif item == 2.0:\n",
        "      new_label.append(1)\n",
        "    elif item == 3.0:\n",
        "      new_label.append(2)\n",
        "    elif item == 4.0:\n",
        "      new_label.append(3)\n",
        "    elif item == 5.0:\n",
        "      new_label.append(4)\n",
        "    elif item == 6.0:\n",
        "      new_label.append(5)\n",
        "    elif item == 7.0:\n",
        "      new_label.append(6)\n",
        "    elif item == 12.0:\n",
        "      new_label.append(7)\n",
        "    elif item == 13.0:\n",
        "      new_label.append(8)\n",
        "    elif item == 16.0:\n",
        "      new_label.append(9)\n",
        "    elif item == 17.0:\n",
        "      new_label.append(10)\n",
        "    elif item == 24.0:\n",
        "      new_label.append(11)\n",
        "\n",
        "  return new_label\n",
        "\n",
        " "
      ]
    },
    {
      "cell_type": "code",
      "execution_count": null,
      "metadata": {
        "id": "MnR-iQ9dfrau"
      },
      "outputs": [],
      "source": [
        "#import sys\n",
        "import pandas as pd\n",
        "import re\n",
        "\n",
        "import os\n",
        "os.chdir(\"drive/My Drive/ML/Datasets/Protocol\")\n",
        "\n",
        "file_1 = 'subject101.dat'\n",
        "file_2 = 'subject102.dat'\n",
        "file_3 = 'subject103.dat'\n",
        "file_4 = 'subject104.dat'\n",
        "file_5 = 'subject105.dat'\n",
        "file_6 = 'subject106.dat'\n",
        "file_7 = 'subject107.dat'\n",
        "file_8 = 'subject108.dat'\n",
        "file_9 = 'subject109.dat'\n",
        "\n",
        "\n",
        "attributes = ['timestamp_s', 'activityID', 'heart_rate_bpm',\n",
        "              'IMU_hand_temperature',\n",
        "        'IMU_hand_3D-acceleration_scale: ±16g','IMU_hand_3D-acceleration_scale: ±16g','IMU_hand_3D-acceleration_scale: ±16g',\n",
        "        'IMU_hand_3D-acceleration_scale: ±6g','IMU_hand_3D-acceleration_scale: ±6g','3D-acceleration_scale: ±6g',\n",
        "        'IMU_hand_3D-gyroscope','IMU_hand_3D-gyroscope','IMU_hand_3D-gyroscope data',\n",
        "        'IMU_hand_3D-magnetometer','IMU_hand_3D-magnetometer','IMU_hand_3D-magnetometer',\n",
        "        'IMU_hand_orientation','IMU_hand_orientation','IMU_hand_orientation','IMU_hand_orientation',\n",
        "        'IMU_chest_temperature',\n",
        "        'IMU_chest_3D-acceleration_scale: ±16g','IMU_chest_3D-acceleration_scale: ±16g','IMU_chest_3D-acceleration_scale: ±16g',\n",
        "        '3D-acceleration_scale: ±6g','IMU_chest_3D-acceleration_scale: ±6g','3D-acceleration_scale: ±6g',\n",
        "        'IMU_chest_3D-gyroscope','IMU_chest_3D-gyroscope','IMU_chest_3D-gyroscope',\n",
        "        'IMU_chest_3D-magnetometer','IMU_chest_3D-magnetometer','IMU_chest_3D-magnetometer',\n",
        "        'orientation','IMU_chest_orientation','IMU_chest_orientation','IMU_chest_orientation',\n",
        "        'IMU_ankle_temperature',\n",
        "        'IMU_ankle_3D-acceleration_scale: ±16g','IMU_ankle_3D-acceleration_scale: ±16g','IMU_ankle_3D-acceleration_scale: ±16g',\n",
        "        'IMU_ankle_3D-acceleration_scale: ±6g','IMU_ankle_3D-acceleration_scale: ±6g','IMU_ankle_3D-acceleration_scale: ±6g',\n",
        "        'IMU_ankle_3D-gyroscope','IMU_ankle_3D-gyroscope','IMU_ankle_3D-gyroscope',\n",
        "        'IMU_ankle_3D-magnetometer','IMU_ankle_3D-magnetometer','IMU_ankle_3D-magnetometer',\n",
        "        'IMU_ankle_orientation','IMU_ankle_orientation','IMU_ankle_orientation','IMU_ankle_orientation']\n",
        "\n",
        "content = []\n",
        "with open (file_1,'r') as sub_1:\n",
        "    add_content(sub_1)\n",
        "with open (file_2,'r') as sub_2:   \n",
        "    add_content(sub_2)\n",
        "with open (file_3, 'r') as sub_3:\n",
        "    add_content(sub_3)\n",
        "with open (file_4, 'r') as sub_4:\n",
        "    add_content(sub_4)\n",
        "with open (file_5, 'r') as sub_5:\n",
        "    add_content(sub_5)\n",
        "with open (file_6, 'r') as sub_6:\n",
        "    add_content(sub_6)\n",
        "with open (file_7, 'r') as sub_7:\n",
        "    add_content(sub_7)\n",
        "with open (file_8, 'r') as sub_8:\n",
        "    add_content(sub_8)\n",
        "with open (file_9, 'r') as sub_9:\n",
        "    add_content(sub_9)"
      ]
    },
    {
      "cell_type": "code",
      "execution_count": null,
      "metadata": {
        "id": "O7ugsp9Efraz"
      },
      "outputs": [],
      "source": [
        "#creating DataFrame\n",
        "df = pd.DataFrame(content, columns= attributes)"
      ]
    },
    {
      "cell_type": "code",
      "execution_count": null,
      "metadata": {
        "id": "DLOuIyFjfra1"
      },
      "outputs": [],
      "source": [
        "#Converts all columns to float\n",
        "\n",
        "for i in attributes:\n",
        "    df[i] = df[i].astype(float)\n",
        "\n",
        "#Creates duration column\n",
        "timestamp = list(df['timestamp_s'])\n",
        "\n",
        "#For the first value of the list \n",
        "duration = [timestamp[0] - 0]\n",
        "\n",
        "#for the remaining value of the list\n",
        "time_diff = [duration.append(abs(timestamp[i]- timestamp[i-1])) for i in range(1, len(timestamp))]\n",
        "\n",
        "df['duration'] = duration \n",
        "df['aggregate'] = df['heart_rate_bpm']*df['duration']"
      ]
    },
    {
      "cell_type": "code",
      "execution_count": null,
      "metadata": {
        "id": "p_AA90xE9URB"
      },
      "outputs": [],
      "source": [
        "#Removes nan values\n",
        "df = df.dropna()\n",
        "\n",
        "#Removes transient activities\n",
        "df = df[df['activityID'] > 0]\n",
        "\n",
        "#Reorders column\n",
        "df = df[['timestamp_s', 'activityID', 'duration','heart_rate_bpm','IMU_hand_temperature',\n",
        "        'IMU_hand_3D-acceleration_scale: ±16g','IMU_hand_3D-acceleration_scale: ±16g','IMU_hand_3D-acceleration_scale: ±16g',\n",
        "        'IMU_hand_3D-acceleration_scale: ±6g','IMU_hand_3D-acceleration_scale: ±6g','3D-acceleration_scale: ±6g',\n",
        "        'IMU_hand_3D-gyroscope','IMU_hand_3D-gyroscope','IMU_hand_3D-gyroscope data',\n",
        "        'IMU_hand_3D-magnetometer','IMU_hand_3D-magnetometer','IMU_hand_3D-magnetometer',\n",
        "        'IMU_hand_orientation','IMU_hand_orientation','IMU_hand_orientation','IMU_hand_orientation',\n",
        "        'IMU_chest_temperature',\n",
        "        'IMU_chest_3D-acceleration_scale: ±16g','IMU_chest_3D-acceleration_scale: ±16g','IMU_chest_3D-acceleration_scale: ±16g',\n",
        "        '3D-acceleration_scale: ±6g','IMU_chest_3D-acceleration_scale: ±6g','3D-acceleration_scale: ±6g',\n",
        "        'IMU_chest_3D-gyroscope','IMU_chest_3D-gyroscope','IMU_chest_3D-gyroscope',\n",
        "        'IMU_chest_3D-magnetometer','IMU_chest_3D-magnetometer','IMU_chest_3D-magnetometer',\n",
        "        'orientation','IMU_chest_orientation','IMU_chest_orientation','IMU_chest_orientation',\n",
        "        'IMU_ankle_temperature',\n",
        "        'IMU_ankle_3D-acceleration_scale: ±16g','IMU_ankle_3D-acceleration_scale: ±16g','IMU_ankle_3D-acceleration_scale: ±16g',\n",
        "        'IMU_ankle_3D-acceleration_scale: ±6g','IMU_ankle_3D-acceleration_scale: ±6g','IMU_ankle_3D-acceleration_scale: ±6g',\n",
        "        'IMU_ankle_3D-gyroscope','IMU_ankle_3D-gyroscope','IMU_ankle_3D-gyroscope',\n",
        "        'IMU_ankle_3D-magnetometer','IMU_ankle_3D-magnetometer','IMU_ankle_3D-magnetometer',\n",
        "        'IMU_ankle_orientation','IMU_ankle_orientation','IMU_ankle_orientation','IMU_ankle_orientation','aggregate']]"
      ]
    },
    {
      "cell_type": "code",
      "execution_count": null,
      "metadata": {
        "colab": {
          "base_uri": "https://localhost:8080/",
          "height": 642
        },
        "id": "LfPCiICKNWWD",
        "outputId": "35012c62-d804-4d44-85e6-f971c81b469f"
      },
      "outputs": [
        {
          "output_type": "execute_result",
          "data": {
            "text/plain": [
              "         timestamp_s  activityID  duration  heart_rate_bpm  \\\n",
              "2932           37.70         1.0      0.01           100.0   \n",
              "2943           37.81         1.0      0.01           100.0   \n",
              "2954           37.92         1.0      0.01           100.0   \n",
              "2965           38.03         1.0      0.01           100.0   \n",
              "2976           38.14         1.0      0.01           101.0   \n",
              "...              ...         ...       ...             ...   \n",
              "2871975        94.66        24.0      0.01           162.0   \n",
              "2871986        94.77        24.0      0.01           162.0   \n",
              "2871997        94.88        24.0      0.01           162.0   \n",
              "2872007        94.98        24.0      0.01           162.0   \n",
              "2872018        95.09        24.0      0.01           162.0   \n",
              "\n",
              "         IMU_hand_temperature  IMU_hand_3D-acceleration_scale: ±16g  \\\n",
              "2932                   30.375                               2.30106   \n",
              "2943                   30.375                               2.24615   \n",
              "2954                   30.375                               2.30000   \n",
              "2965                   30.375                               2.49455   \n",
              "2976                   30.375                               2.71654   \n",
              "...                       ...                                   ...   \n",
              "2871975                25.125                               4.78601   \n",
              "2871986                25.125                               4.34732   \n",
              "2871997                25.125                               4.70704   \n",
              "2872007                25.125                               4.81452   \n",
              "2872018                25.125                               5.13914   \n",
              "\n",
              "         IMU_hand_3D-acceleration_scale: ±16g  \\\n",
              "2932                                  7.25857   \n",
              "2943                                  7.48180   \n",
              "2954                                  7.10681   \n",
              "2965                                  7.52335   \n",
              "2976                                  8.30596   \n",
              "...                                       ...   \n",
              "2871975                               6.75444   \n",
              "2871986                               6.90337   \n",
              "2871997                               6.59291   \n",
              "2872007                               6.51482   \n",
              "2872018                               5.63724   \n",
              "\n",
              "         IMU_hand_3D-acceleration_scale: ±16g  \\\n",
              "2932                                  6.09259   \n",
              "2943                                  5.55219   \n",
              "2954                                  6.09309   \n",
              "2965                                  6.17157   \n",
              "2976                                  4.78671   \n",
              "...                                       ...   \n",
              "2871975                               7.05521   \n",
              "2871986                               6.35537   \n",
              "2871997                               5.89995   \n",
              "2872007                               5.74788   \n",
              "2872018                               5.48629   \n",
              "\n",
              "         IMU_hand_3D-acceleration_scale: ±16g  \\\n",
              "2932                                  2.30106   \n",
              "2943                                  2.24615   \n",
              "2954                                  2.30000   \n",
              "2965                                  2.49455   \n",
              "2976                                  2.71654   \n",
              "...                                       ...   \n",
              "2871975                               4.78601   \n",
              "2871986                               4.34732   \n",
              "2871997                               4.70704   \n",
              "2872007                               4.81452   \n",
              "2872018                               5.13914   \n",
              "\n",
              "         IMU_hand_3D-acceleration_scale: ±16g  ...  IMU_ankle_orientation  \\\n",
              "2932                                  7.25857  ...               0.000000   \n",
              "2943                                  7.48180  ...               0.000000   \n",
              "2954                                  7.10681  ...               0.000000   \n",
              "2965                                  7.52335  ...               0.000000   \n",
              "2976                                  8.30596  ...               0.000000   \n",
              "...                                       ...  ...                    ...   \n",
              "2871975                               6.75444  ...              -0.386418   \n",
              "2871986                               6.90337  ...              -0.385119   \n",
              "2871997                               6.59291  ...              -0.381912   \n",
              "2872007                               6.51482  ...              -0.379869   \n",
              "2872018                               5.63724  ...              -0.377733   \n",
              "\n",
              "         IMU_ankle_orientation  IMU_ankle_orientation  IMU_ankle_orientation  \\\n",
              "2932                  1.000000               0.000000               0.000000   \n",
              "2943                  1.000000               0.000000               0.000000   \n",
              "2954                  1.000000               0.000000               0.000000   \n",
              "2965                  1.000000               0.000000               0.000000   \n",
              "2976                  1.000000               0.000000               0.000000   \n",
              "...                        ...                    ...                    ...   \n",
              "2871975               0.522578              -0.295758               0.700086   \n",
              "2871986               0.522768              -0.293886               0.701447   \n",
              "2871997               0.522624              -0.294082               0.703224   \n",
              "2872007               0.523382              -0.292121               0.704582   \n",
              "2872018               0.522536              -0.291955               0.706426   \n",
              "\n",
              "         IMU_ankle_orientation  IMU_ankle_orientation  IMU_ankle_orientation  \\\n",
              "2932                  0.000000               1.000000               0.000000   \n",
              "2943                  0.000000               1.000000               0.000000   \n",
              "2954                  0.000000               1.000000               0.000000   \n",
              "2965                  0.000000               1.000000               0.000000   \n",
              "2976                  0.000000               1.000000               0.000000   \n",
              "...                        ...                    ...                    ...   \n",
              "2871975              -0.386418               0.522578              -0.295758   \n",
              "2871986              -0.385119               0.522768              -0.293886   \n",
              "2871997              -0.381912               0.522624              -0.294082   \n",
              "2872007              -0.379869               0.523382              -0.292121   \n",
              "2872018              -0.377733               0.522536              -0.291955   \n",
              "\n",
              "         IMU_ankle_orientation  IMU_ankle_orientation  aggregate  \n",
              "2932                  0.000000               0.000000       1.00  \n",
              "2943                  0.000000               0.000000       1.00  \n",
              "2954                  0.000000               0.000000       1.00  \n",
              "2965                  0.000000               0.000000       1.00  \n",
              "2976                  0.000000               0.000000       1.01  \n",
              "...                        ...                    ...        ...  \n",
              "2871975               0.700086              -0.386418       1.62  \n",
              "2871986               0.701447              -0.385119       1.62  \n",
              "2871997               0.703224              -0.381912       1.62  \n",
              "2872007               0.704582              -0.379869       1.62  \n",
              "2872018               0.706426              -0.377733       1.62  \n",
              "\n",
              "[175498 rows x 150 columns]"
            ],
            "text/html": [
              "\n",
              "  <div id=\"df-b4c464fa-094e-4898-85f4-bfc2ccdfa688\">\n",
              "    <div class=\"colab-df-container\">\n",
              "      <div>\n",
              "<style scoped>\n",
              "    .dataframe tbody tr th:only-of-type {\n",
              "        vertical-align: middle;\n",
              "    }\n",
              "\n",
              "    .dataframe tbody tr th {\n",
              "        vertical-align: top;\n",
              "    }\n",
              "\n",
              "    .dataframe thead th {\n",
              "        text-align: right;\n",
              "    }\n",
              "</style>\n",
              "<table border=\"1\" class=\"dataframe\">\n",
              "  <thead>\n",
              "    <tr style=\"text-align: right;\">\n",
              "      <th></th>\n",
              "      <th>timestamp_s</th>\n",
              "      <th>activityID</th>\n",
              "      <th>duration</th>\n",
              "      <th>heart_rate_bpm</th>\n",
              "      <th>IMU_hand_temperature</th>\n",
              "      <th>IMU_hand_3D-acceleration_scale: ±16g</th>\n",
              "      <th>IMU_hand_3D-acceleration_scale: ±16g</th>\n",
              "      <th>IMU_hand_3D-acceleration_scale: ±16g</th>\n",
              "      <th>IMU_hand_3D-acceleration_scale: ±16g</th>\n",
              "      <th>IMU_hand_3D-acceleration_scale: ±16g</th>\n",
              "      <th>...</th>\n",
              "      <th>IMU_ankle_orientation</th>\n",
              "      <th>IMU_ankle_orientation</th>\n",
              "      <th>IMU_ankle_orientation</th>\n",
              "      <th>IMU_ankle_orientation</th>\n",
              "      <th>IMU_ankle_orientation</th>\n",
              "      <th>IMU_ankle_orientation</th>\n",
              "      <th>IMU_ankle_orientation</th>\n",
              "      <th>IMU_ankle_orientation</th>\n",
              "      <th>IMU_ankle_orientation</th>\n",
              "      <th>aggregate</th>\n",
              "    </tr>\n",
              "  </thead>\n",
              "  <tbody>\n",
              "    <tr>\n",
              "      <th>2932</th>\n",
              "      <td>37.70</td>\n",
              "      <td>1.0</td>\n",
              "      <td>0.01</td>\n",
              "      <td>100.0</td>\n",
              "      <td>30.375</td>\n",
              "      <td>2.30106</td>\n",
              "      <td>7.25857</td>\n",
              "      <td>6.09259</td>\n",
              "      <td>2.30106</td>\n",
              "      <td>7.25857</td>\n",
              "      <td>...</td>\n",
              "      <td>0.000000</td>\n",
              "      <td>1.000000</td>\n",
              "      <td>0.000000</td>\n",
              "      <td>0.000000</td>\n",
              "      <td>0.000000</td>\n",
              "      <td>1.000000</td>\n",
              "      <td>0.000000</td>\n",
              "      <td>0.000000</td>\n",
              "      <td>0.000000</td>\n",
              "      <td>1.00</td>\n",
              "    </tr>\n",
              "    <tr>\n",
              "      <th>2943</th>\n",
              "      <td>37.81</td>\n",
              "      <td>1.0</td>\n",
              "      <td>0.01</td>\n",
              "      <td>100.0</td>\n",
              "      <td>30.375</td>\n",
              "      <td>2.24615</td>\n",
              "      <td>7.48180</td>\n",
              "      <td>5.55219</td>\n",
              "      <td>2.24615</td>\n",
              "      <td>7.48180</td>\n",
              "      <td>...</td>\n",
              "      <td>0.000000</td>\n",
              "      <td>1.000000</td>\n",
              "      <td>0.000000</td>\n",
              "      <td>0.000000</td>\n",
              "      <td>0.000000</td>\n",
              "      <td>1.000000</td>\n",
              "      <td>0.000000</td>\n",
              "      <td>0.000000</td>\n",
              "      <td>0.000000</td>\n",
              "      <td>1.00</td>\n",
              "    </tr>\n",
              "    <tr>\n",
              "      <th>2954</th>\n",
              "      <td>37.92</td>\n",
              "      <td>1.0</td>\n",
              "      <td>0.01</td>\n",
              "      <td>100.0</td>\n",
              "      <td>30.375</td>\n",
              "      <td>2.30000</td>\n",
              "      <td>7.10681</td>\n",
              "      <td>6.09309</td>\n",
              "      <td>2.30000</td>\n",
              "      <td>7.10681</td>\n",
              "      <td>...</td>\n",
              "      <td>0.000000</td>\n",
              "      <td>1.000000</td>\n",
              "      <td>0.000000</td>\n",
              "      <td>0.000000</td>\n",
              "      <td>0.000000</td>\n",
              "      <td>1.000000</td>\n",
              "      <td>0.000000</td>\n",
              "      <td>0.000000</td>\n",
              "      <td>0.000000</td>\n",
              "      <td>1.00</td>\n",
              "    </tr>\n",
              "    <tr>\n",
              "      <th>2965</th>\n",
              "      <td>38.03</td>\n",
              "      <td>1.0</td>\n",
              "      <td>0.01</td>\n",
              "      <td>100.0</td>\n",
              "      <td>30.375</td>\n",
              "      <td>2.49455</td>\n",
              "      <td>7.52335</td>\n",
              "      <td>6.17157</td>\n",
              "      <td>2.49455</td>\n",
              "      <td>7.52335</td>\n",
              "      <td>...</td>\n",
              "      <td>0.000000</td>\n",
              "      <td>1.000000</td>\n",
              "      <td>0.000000</td>\n",
              "      <td>0.000000</td>\n",
              "      <td>0.000000</td>\n",
              "      <td>1.000000</td>\n",
              "      <td>0.000000</td>\n",
              "      <td>0.000000</td>\n",
              "      <td>0.000000</td>\n",
              "      <td>1.00</td>\n",
              "    </tr>\n",
              "    <tr>\n",
              "      <th>2976</th>\n",
              "      <td>38.14</td>\n",
              "      <td>1.0</td>\n",
              "      <td>0.01</td>\n",
              "      <td>101.0</td>\n",
              "      <td>30.375</td>\n",
              "      <td>2.71654</td>\n",
              "      <td>8.30596</td>\n",
              "      <td>4.78671</td>\n",
              "      <td>2.71654</td>\n",
              "      <td>8.30596</td>\n",
              "      <td>...</td>\n",
              "      <td>0.000000</td>\n",
              "      <td>1.000000</td>\n",
              "      <td>0.000000</td>\n",
              "      <td>0.000000</td>\n",
              "      <td>0.000000</td>\n",
              "      <td>1.000000</td>\n",
              "      <td>0.000000</td>\n",
              "      <td>0.000000</td>\n",
              "      <td>0.000000</td>\n",
              "      <td>1.01</td>\n",
              "    </tr>\n",
              "    <tr>\n",
              "      <th>...</th>\n",
              "      <td>...</td>\n",
              "      <td>...</td>\n",
              "      <td>...</td>\n",
              "      <td>...</td>\n",
              "      <td>...</td>\n",
              "      <td>...</td>\n",
              "      <td>...</td>\n",
              "      <td>...</td>\n",
              "      <td>...</td>\n",
              "      <td>...</td>\n",
              "      <td>...</td>\n",
              "      <td>...</td>\n",
              "      <td>...</td>\n",
              "      <td>...</td>\n",
              "      <td>...</td>\n",
              "      <td>...</td>\n",
              "      <td>...</td>\n",
              "      <td>...</td>\n",
              "      <td>...</td>\n",
              "      <td>...</td>\n",
              "      <td>...</td>\n",
              "    </tr>\n",
              "    <tr>\n",
              "      <th>2871975</th>\n",
              "      <td>94.66</td>\n",
              "      <td>24.0</td>\n",
              "      <td>0.01</td>\n",
              "      <td>162.0</td>\n",
              "      <td>25.125</td>\n",
              "      <td>4.78601</td>\n",
              "      <td>6.75444</td>\n",
              "      <td>7.05521</td>\n",
              "      <td>4.78601</td>\n",
              "      <td>6.75444</td>\n",
              "      <td>...</td>\n",
              "      <td>-0.386418</td>\n",
              "      <td>0.522578</td>\n",
              "      <td>-0.295758</td>\n",
              "      <td>0.700086</td>\n",
              "      <td>-0.386418</td>\n",
              "      <td>0.522578</td>\n",
              "      <td>-0.295758</td>\n",
              "      <td>0.700086</td>\n",
              "      <td>-0.386418</td>\n",
              "      <td>1.62</td>\n",
              "    </tr>\n",
              "    <tr>\n",
              "      <th>2871986</th>\n",
              "      <td>94.77</td>\n",
              "      <td>24.0</td>\n",
              "      <td>0.01</td>\n",
              "      <td>162.0</td>\n",
              "      <td>25.125</td>\n",
              "      <td>4.34732</td>\n",
              "      <td>6.90337</td>\n",
              "      <td>6.35537</td>\n",
              "      <td>4.34732</td>\n",
              "      <td>6.90337</td>\n",
              "      <td>...</td>\n",
              "      <td>-0.385119</td>\n",
              "      <td>0.522768</td>\n",
              "      <td>-0.293886</td>\n",
              "      <td>0.701447</td>\n",
              "      <td>-0.385119</td>\n",
              "      <td>0.522768</td>\n",
              "      <td>-0.293886</td>\n",
              "      <td>0.701447</td>\n",
              "      <td>-0.385119</td>\n",
              "      <td>1.62</td>\n",
              "    </tr>\n",
              "    <tr>\n",
              "      <th>2871997</th>\n",
              "      <td>94.88</td>\n",
              "      <td>24.0</td>\n",
              "      <td>0.01</td>\n",
              "      <td>162.0</td>\n",
              "      <td>25.125</td>\n",
              "      <td>4.70704</td>\n",
              "      <td>6.59291</td>\n",
              "      <td>5.89995</td>\n",
              "      <td>4.70704</td>\n",
              "      <td>6.59291</td>\n",
              "      <td>...</td>\n",
              "      <td>-0.381912</td>\n",
              "      <td>0.522624</td>\n",
              "      <td>-0.294082</td>\n",
              "      <td>0.703224</td>\n",
              "      <td>-0.381912</td>\n",
              "      <td>0.522624</td>\n",
              "      <td>-0.294082</td>\n",
              "      <td>0.703224</td>\n",
              "      <td>-0.381912</td>\n",
              "      <td>1.62</td>\n",
              "    </tr>\n",
              "    <tr>\n",
              "      <th>2872007</th>\n",
              "      <td>94.98</td>\n",
              "      <td>24.0</td>\n",
              "      <td>0.01</td>\n",
              "      <td>162.0</td>\n",
              "      <td>25.125</td>\n",
              "      <td>4.81452</td>\n",
              "      <td>6.51482</td>\n",
              "      <td>5.74788</td>\n",
              "      <td>4.81452</td>\n",
              "      <td>6.51482</td>\n",
              "      <td>...</td>\n",
              "      <td>-0.379869</td>\n",
              "      <td>0.523382</td>\n",
              "      <td>-0.292121</td>\n",
              "      <td>0.704582</td>\n",
              "      <td>-0.379869</td>\n",
              "      <td>0.523382</td>\n",
              "      <td>-0.292121</td>\n",
              "      <td>0.704582</td>\n",
              "      <td>-0.379869</td>\n",
              "      <td>1.62</td>\n",
              "    </tr>\n",
              "    <tr>\n",
              "      <th>2872018</th>\n",
              "      <td>95.09</td>\n",
              "      <td>24.0</td>\n",
              "      <td>0.01</td>\n",
              "      <td>162.0</td>\n",
              "      <td>25.125</td>\n",
              "      <td>5.13914</td>\n",
              "      <td>5.63724</td>\n",
              "      <td>5.48629</td>\n",
              "      <td>5.13914</td>\n",
              "      <td>5.63724</td>\n",
              "      <td>...</td>\n",
              "      <td>-0.377733</td>\n",
              "      <td>0.522536</td>\n",
              "      <td>-0.291955</td>\n",
              "      <td>0.706426</td>\n",
              "      <td>-0.377733</td>\n",
              "      <td>0.522536</td>\n",
              "      <td>-0.291955</td>\n",
              "      <td>0.706426</td>\n",
              "      <td>-0.377733</td>\n",
              "      <td>1.62</td>\n",
              "    </tr>\n",
              "  </tbody>\n",
              "</table>\n",
              "<p>175498 rows × 150 columns</p>\n",
              "</div>\n",
              "      <button class=\"colab-df-convert\" onclick=\"convertToInteractive('df-b4c464fa-094e-4898-85f4-bfc2ccdfa688')\"\n",
              "              title=\"Convert this dataframe to an interactive table.\"\n",
              "              style=\"display:none;\">\n",
              "        \n",
              "  <svg xmlns=\"http://www.w3.org/2000/svg\" height=\"24px\"viewBox=\"0 0 24 24\"\n",
              "       width=\"24px\">\n",
              "    <path d=\"M0 0h24v24H0V0z\" fill=\"none\"/>\n",
              "    <path d=\"M18.56 5.44l.94 2.06.94-2.06 2.06-.94-2.06-.94-.94-2.06-.94 2.06-2.06.94zm-11 1L8.5 8.5l.94-2.06 2.06-.94-2.06-.94L8.5 2.5l-.94 2.06-2.06.94zm10 10l.94 2.06.94-2.06 2.06-.94-2.06-.94-.94-2.06-.94 2.06-2.06.94z\"/><path d=\"M17.41 7.96l-1.37-1.37c-.4-.4-.92-.59-1.43-.59-.52 0-1.04.2-1.43.59L10.3 9.45l-7.72 7.72c-.78.78-.78 2.05 0 2.83L4 21.41c.39.39.9.59 1.41.59.51 0 1.02-.2 1.41-.59l7.78-7.78 2.81-2.81c.8-.78.8-2.07 0-2.86zM5.41 20L4 18.59l7.72-7.72 1.47 1.35L5.41 20z\"/>\n",
              "  </svg>\n",
              "      </button>\n",
              "      \n",
              "  <style>\n",
              "    .colab-df-container {\n",
              "      display:flex;\n",
              "      flex-wrap:wrap;\n",
              "      gap: 12px;\n",
              "    }\n",
              "\n",
              "    .colab-df-convert {\n",
              "      background-color: #E8F0FE;\n",
              "      border: none;\n",
              "      border-radius: 50%;\n",
              "      cursor: pointer;\n",
              "      display: none;\n",
              "      fill: #1967D2;\n",
              "      height: 32px;\n",
              "      padding: 0 0 0 0;\n",
              "      width: 32px;\n",
              "    }\n",
              "\n",
              "    .colab-df-convert:hover {\n",
              "      background-color: #E2EBFA;\n",
              "      box-shadow: 0px 1px 2px rgba(60, 64, 67, 0.3), 0px 1px 3px 1px rgba(60, 64, 67, 0.15);\n",
              "      fill: #174EA6;\n",
              "    }\n",
              "\n",
              "    [theme=dark] .colab-df-convert {\n",
              "      background-color: #3B4455;\n",
              "      fill: #D2E3FC;\n",
              "    }\n",
              "\n",
              "    [theme=dark] .colab-df-convert:hover {\n",
              "      background-color: #434B5C;\n",
              "      box-shadow: 0px 1px 3px 1px rgba(0, 0, 0, 0.15);\n",
              "      filter: drop-shadow(0px 1px 2px rgba(0, 0, 0, 0.3));\n",
              "      fill: #FFFFFF;\n",
              "    }\n",
              "  </style>\n",
              "\n",
              "      <script>\n",
              "        const buttonEl =\n",
              "          document.querySelector('#df-b4c464fa-094e-4898-85f4-bfc2ccdfa688 button.colab-df-convert');\n",
              "        buttonEl.style.display =\n",
              "          google.colab.kernel.accessAllowed ? 'block' : 'none';\n",
              "\n",
              "        async function convertToInteractive(key) {\n",
              "          const element = document.querySelector('#df-b4c464fa-094e-4898-85f4-bfc2ccdfa688');\n",
              "          const dataTable =\n",
              "            await google.colab.kernel.invokeFunction('convertToInteractive',\n",
              "                                                     [key], {});\n",
              "          if (!dataTable) return;\n",
              "\n",
              "          const docLinkHtml = 'Like what you see? Visit the ' +\n",
              "            '<a target=\"_blank\" href=https://colab.research.google.com/notebooks/data_table.ipynb>data table notebook</a>'\n",
              "            + ' to learn more about interactive tables.';\n",
              "          element.innerHTML = '';\n",
              "          dataTable['output_type'] = 'display_data';\n",
              "          await google.colab.output.renderOutput(dataTable, element);\n",
              "          const docLink = document.createElement('div');\n",
              "          docLink.innerHTML = docLinkHtml;\n",
              "          element.appendChild(docLink);\n",
              "        }\n",
              "      </script>\n",
              "    </div>\n",
              "  </div>\n",
              "  "
            ]
          },
          "metadata": {},
          "execution_count": 14
        }
      ],
      "source": [
        "df"
      ]
    },
    {
      "cell_type": "markdown",
      "metadata": {
        "id": "XfiEJNjfQQKk"
      },
      "source": [
        "#**Data Spliting**"
      ]
    },
    {
      "cell_type": "code",
      "execution_count": null,
      "metadata": {
        "id": "sQOn0tv8fra3"
      },
      "outputs": [],
      "source": [
        "#shuffles dataset and parses into train and test set\n",
        "#Train set is 70% of the whole set, while 30% is used as the test set\n",
        "\n",
        "import random\n",
        "\n",
        "\n",
        "random.seed(20)\n",
        "\n",
        "#shuffles dataset\n",
        "df = df.sample(frac = 1.0)\n",
        "\n",
        "#Creates subset\n",
        "subset = len(df)*7//10\n",
        "\n",
        "#Splits into training and test set in the ratio 70-30\n",
        "train_set = df[:subset]\n",
        "test_set = df[subset:]"
      ]
    },
    {
      "cell_type": "code",
      "execution_count": null,
      "metadata": {
        "colab": {
          "base_uri": "https://localhost:8080/",
          "height": 642
        },
        "id": "ysJI1Y91fra4",
        "outputId": "152ed5fb-88df-4652-ec57-dbe680ce16c6"
      },
      "outputs": [
        {
          "output_type": "execute_result",
          "data": {
            "text/plain": [
              "         timestamp_s  activityID  duration  heart_rate_bpm  \\\n",
              "1300487      2248.08         4.0      0.01           112.0   \n",
              "2564120      1086.84        17.0      0.01            90.0   \n",
              "24075         249.13         1.0      0.01            82.0   \n",
              "132801       1336.39        16.0      0.01           132.0   \n",
              "178618       1794.56        13.0      0.01           129.0   \n",
              "...              ...         ...       ...             ...   \n",
              "1546015      1407.59        16.0      0.01            92.0   \n",
              "2313255      1714.21        12.0      0.01            75.0   \n",
              "1300750      2250.71         4.0      0.01           114.0   \n",
              "1867181       871.61        17.0      0.01            90.0   \n",
              "2398056      2562.22         7.0      0.01           122.0   \n",
              "\n",
              "         IMU_hand_temperature  IMU_hand_3D-acceleration_scale: ±16g  \\\n",
              "1300487               31.8125                              -6.75564   \n",
              "2564120               34.7500                              -6.88802   \n",
              "24075                 31.6875                               7.21391   \n",
              "132801                33.6250                             -11.79540   \n",
              "178618                33.8125                             -12.02170   \n",
              "...                       ...                                   ...   \n",
              "1546015               35.3750                              -6.33041   \n",
              "2313255               33.7500                             -13.79540   \n",
              "1300750               31.8125                             -11.65710   \n",
              "1867181               33.7500                              -4.99214   \n",
              "2398056               33.0625                              -1.98287   \n",
              "\n",
              "         IMU_hand_3D-acceleration_scale: ±16g  \\\n",
              "1300487                               2.97406   \n",
              "2564120                               6.13433   \n",
              "24075                                 1.30283   \n",
              "132801                                5.85106   \n",
              "178618                                4.27207   \n",
              "...                                       ...   \n",
              "1546015                               4.74590   \n",
              "2313255                               1.08556   \n",
              "1300750                               5.34578   \n",
              "1867181                               2.72261   \n",
              "2398056                               8.78224   \n",
              "\n",
              "         IMU_hand_3D-acceleration_scale: ±16g  \\\n",
              "1300487                              -1.49517   \n",
              "2564120                               3.84193   \n",
              "24075                                 6.30174   \n",
              "132801                                1.80653   \n",
              "178618                                3.23250   \n",
              "...                                       ...   \n",
              "1546015                               6.04875   \n",
              "2313255                               1.75416   \n",
              "1300750                               4.81232   \n",
              "1867181                               5.84470   \n",
              "2398056                              -1.21234   \n",
              "\n",
              "         IMU_hand_3D-acceleration_scale: ±16g  \\\n",
              "1300487                              -6.75564   \n",
              "2564120                              -6.88802   \n",
              "24075                                 7.21391   \n",
              "132801                              -11.79540   \n",
              "178618                              -12.02170   \n",
              "...                                       ...   \n",
              "1546015                              -6.33041   \n",
              "2313255                             -13.79540   \n",
              "1300750                             -11.65710   \n",
              "1867181                              -4.99214   \n",
              "2398056                              -1.98287   \n",
              "\n",
              "         IMU_hand_3D-acceleration_scale: ±16g  ...  IMU_ankle_orientation  \\\n",
              "1300487                               2.97406  ...               0.660148   \n",
              "2564120                               6.13433  ...               0.033217   \n",
              "24075                                 1.30283  ...               0.000000   \n",
              "132801                                5.85106  ...               0.000000   \n",
              "178618                                4.27207  ...               0.000000   \n",
              "...                                       ...  ...                    ...   \n",
              "1546015                               4.74590  ...               0.457104   \n",
              "2313255                               1.08556  ...              -0.614643   \n",
              "1300750                               5.34578  ...               0.481982   \n",
              "1867181                               2.72261  ...               0.616373   \n",
              "2398056                               8.78224  ...               0.375407   \n",
              "\n",
              "         IMU_ankle_orientation  IMU_ankle_orientation  IMU_ankle_orientation  \\\n",
              "1300487               0.088774               0.628959               0.400917   \n",
              "2564120               0.633118               0.051503               0.771626   \n",
              "24075                 1.000000               0.000000               0.000000   \n",
              "132801                1.000000               0.000000               0.000000   \n",
              "178618                1.000000               0.000000               0.000000   \n",
              "...                        ...                    ...                    ...   \n",
              "1546015               0.348106               0.561475               0.595503   \n",
              "2313255               0.212241              -0.748676              -0.129043   \n",
              "1300750               0.376919               0.692996               0.381290   \n",
              "1867181               0.177018               0.743926               0.187943   \n",
              "2398056               0.528955               0.329020               0.686311   \n",
              "\n",
              "         IMU_ankle_orientation  IMU_ankle_orientation  IMU_ankle_orientation  \\\n",
              "1300487               0.660148               0.088774               0.628959   \n",
              "2564120               0.033217               0.633118               0.051503   \n",
              "24075                 0.000000               1.000000               0.000000   \n",
              "132801                0.000000               1.000000               0.000000   \n",
              "178618                0.000000               1.000000               0.000000   \n",
              "...                        ...                    ...                    ...   \n",
              "1546015               0.457104               0.348106               0.561475   \n",
              "2313255              -0.614643               0.212241              -0.748676   \n",
              "1300750               0.481982               0.376919               0.692996   \n",
              "1867181               0.616373               0.177018               0.743926   \n",
              "2398056               0.375407               0.528955               0.329020   \n",
              "\n",
              "         IMU_ankle_orientation  IMU_ankle_orientation  aggregate  \n",
              "1300487               0.400917               0.660148       1.12  \n",
              "2564120               0.771626               0.033217       0.90  \n",
              "24075                 0.000000               0.000000       0.82  \n",
              "132801                0.000000               0.000000       1.32  \n",
              "178618                0.000000               0.000000       1.29  \n",
              "...                        ...                    ...        ...  \n",
              "1546015               0.595503               0.457104       0.92  \n",
              "2313255              -0.129043              -0.614643       0.75  \n",
              "1300750               0.381290               0.481982       1.14  \n",
              "1867181               0.187943               0.616373       0.90  \n",
              "2398056               0.686311               0.375407       1.22  \n",
              "\n",
              "[122848 rows x 150 columns]"
            ],
            "text/html": [
              "\n",
              "  <div id=\"df-47275c84-b8e9-47e3-8c20-4005a0acac73\">\n",
              "    <div class=\"colab-df-container\">\n",
              "      <div>\n",
              "<style scoped>\n",
              "    .dataframe tbody tr th:only-of-type {\n",
              "        vertical-align: middle;\n",
              "    }\n",
              "\n",
              "    .dataframe tbody tr th {\n",
              "        vertical-align: top;\n",
              "    }\n",
              "\n",
              "    .dataframe thead th {\n",
              "        text-align: right;\n",
              "    }\n",
              "</style>\n",
              "<table border=\"1\" class=\"dataframe\">\n",
              "  <thead>\n",
              "    <tr style=\"text-align: right;\">\n",
              "      <th></th>\n",
              "      <th>timestamp_s</th>\n",
              "      <th>activityID</th>\n",
              "      <th>duration</th>\n",
              "      <th>heart_rate_bpm</th>\n",
              "      <th>IMU_hand_temperature</th>\n",
              "      <th>IMU_hand_3D-acceleration_scale: ±16g</th>\n",
              "      <th>IMU_hand_3D-acceleration_scale: ±16g</th>\n",
              "      <th>IMU_hand_3D-acceleration_scale: ±16g</th>\n",
              "      <th>IMU_hand_3D-acceleration_scale: ±16g</th>\n",
              "      <th>IMU_hand_3D-acceleration_scale: ±16g</th>\n",
              "      <th>...</th>\n",
              "      <th>IMU_ankle_orientation</th>\n",
              "      <th>IMU_ankle_orientation</th>\n",
              "      <th>IMU_ankle_orientation</th>\n",
              "      <th>IMU_ankle_orientation</th>\n",
              "      <th>IMU_ankle_orientation</th>\n",
              "      <th>IMU_ankle_orientation</th>\n",
              "      <th>IMU_ankle_orientation</th>\n",
              "      <th>IMU_ankle_orientation</th>\n",
              "      <th>IMU_ankle_orientation</th>\n",
              "      <th>aggregate</th>\n",
              "    </tr>\n",
              "  </thead>\n",
              "  <tbody>\n",
              "    <tr>\n",
              "      <th>1300487</th>\n",
              "      <td>2248.08</td>\n",
              "      <td>4.0</td>\n",
              "      <td>0.01</td>\n",
              "      <td>112.0</td>\n",
              "      <td>31.8125</td>\n",
              "      <td>-6.75564</td>\n",
              "      <td>2.97406</td>\n",
              "      <td>-1.49517</td>\n",
              "      <td>-6.75564</td>\n",
              "      <td>2.97406</td>\n",
              "      <td>...</td>\n",
              "      <td>0.660148</td>\n",
              "      <td>0.088774</td>\n",
              "      <td>0.628959</td>\n",
              "      <td>0.400917</td>\n",
              "      <td>0.660148</td>\n",
              "      <td>0.088774</td>\n",
              "      <td>0.628959</td>\n",
              "      <td>0.400917</td>\n",
              "      <td>0.660148</td>\n",
              "      <td>1.12</td>\n",
              "    </tr>\n",
              "    <tr>\n",
              "      <th>2564120</th>\n",
              "      <td>1086.84</td>\n",
              "      <td>17.0</td>\n",
              "      <td>0.01</td>\n",
              "      <td>90.0</td>\n",
              "      <td>34.7500</td>\n",
              "      <td>-6.88802</td>\n",
              "      <td>6.13433</td>\n",
              "      <td>3.84193</td>\n",
              "      <td>-6.88802</td>\n",
              "      <td>6.13433</td>\n",
              "      <td>...</td>\n",
              "      <td>0.033217</td>\n",
              "      <td>0.633118</td>\n",
              "      <td>0.051503</td>\n",
              "      <td>0.771626</td>\n",
              "      <td>0.033217</td>\n",
              "      <td>0.633118</td>\n",
              "      <td>0.051503</td>\n",
              "      <td>0.771626</td>\n",
              "      <td>0.033217</td>\n",
              "      <td>0.90</td>\n",
              "    </tr>\n",
              "    <tr>\n",
              "      <th>24075</th>\n",
              "      <td>249.13</td>\n",
              "      <td>1.0</td>\n",
              "      <td>0.01</td>\n",
              "      <td>82.0</td>\n",
              "      <td>31.6875</td>\n",
              "      <td>7.21391</td>\n",
              "      <td>1.30283</td>\n",
              "      <td>6.30174</td>\n",
              "      <td>7.21391</td>\n",
              "      <td>1.30283</td>\n",
              "      <td>...</td>\n",
              "      <td>0.000000</td>\n",
              "      <td>1.000000</td>\n",
              "      <td>0.000000</td>\n",
              "      <td>0.000000</td>\n",
              "      <td>0.000000</td>\n",
              "      <td>1.000000</td>\n",
              "      <td>0.000000</td>\n",
              "      <td>0.000000</td>\n",
              "      <td>0.000000</td>\n",
              "      <td>0.82</td>\n",
              "    </tr>\n",
              "    <tr>\n",
              "      <th>132801</th>\n",
              "      <td>1336.39</td>\n",
              "      <td>16.0</td>\n",
              "      <td>0.01</td>\n",
              "      <td>132.0</td>\n",
              "      <td>33.6250</td>\n",
              "      <td>-11.79540</td>\n",
              "      <td>5.85106</td>\n",
              "      <td>1.80653</td>\n",
              "      <td>-11.79540</td>\n",
              "      <td>5.85106</td>\n",
              "      <td>...</td>\n",
              "      <td>0.000000</td>\n",
              "      <td>1.000000</td>\n",
              "      <td>0.000000</td>\n",
              "      <td>0.000000</td>\n",
              "      <td>0.000000</td>\n",
              "      <td>1.000000</td>\n",
              "      <td>0.000000</td>\n",
              "      <td>0.000000</td>\n",
              "      <td>0.000000</td>\n",
              "      <td>1.32</td>\n",
              "    </tr>\n",
              "    <tr>\n",
              "      <th>178618</th>\n",
              "      <td>1794.56</td>\n",
              "      <td>13.0</td>\n",
              "      <td>0.01</td>\n",
              "      <td>129.0</td>\n",
              "      <td>33.8125</td>\n",
              "      <td>-12.02170</td>\n",
              "      <td>4.27207</td>\n",
              "      <td>3.23250</td>\n",
              "      <td>-12.02170</td>\n",
              "      <td>4.27207</td>\n",
              "      <td>...</td>\n",
              "      <td>0.000000</td>\n",
              "      <td>1.000000</td>\n",
              "      <td>0.000000</td>\n",
              "      <td>0.000000</td>\n",
              "      <td>0.000000</td>\n",
              "      <td>1.000000</td>\n",
              "      <td>0.000000</td>\n",
              "      <td>0.000000</td>\n",
              "      <td>0.000000</td>\n",
              "      <td>1.29</td>\n",
              "    </tr>\n",
              "    <tr>\n",
              "      <th>...</th>\n",
              "      <td>...</td>\n",
              "      <td>...</td>\n",
              "      <td>...</td>\n",
              "      <td>...</td>\n",
              "      <td>...</td>\n",
              "      <td>...</td>\n",
              "      <td>...</td>\n",
              "      <td>...</td>\n",
              "      <td>...</td>\n",
              "      <td>...</td>\n",
              "      <td>...</td>\n",
              "      <td>...</td>\n",
              "      <td>...</td>\n",
              "      <td>...</td>\n",
              "      <td>...</td>\n",
              "      <td>...</td>\n",
              "      <td>...</td>\n",
              "      <td>...</td>\n",
              "      <td>...</td>\n",
              "      <td>...</td>\n",
              "      <td>...</td>\n",
              "    </tr>\n",
              "    <tr>\n",
              "      <th>1546015</th>\n",
              "      <td>1407.59</td>\n",
              "      <td>16.0</td>\n",
              "      <td>0.01</td>\n",
              "      <td>92.0</td>\n",
              "      <td>35.3750</td>\n",
              "      <td>-6.33041</td>\n",
              "      <td>4.74590</td>\n",
              "      <td>6.04875</td>\n",
              "      <td>-6.33041</td>\n",
              "      <td>4.74590</td>\n",
              "      <td>...</td>\n",
              "      <td>0.457104</td>\n",
              "      <td>0.348106</td>\n",
              "      <td>0.561475</td>\n",
              "      <td>0.595503</td>\n",
              "      <td>0.457104</td>\n",
              "      <td>0.348106</td>\n",
              "      <td>0.561475</td>\n",
              "      <td>0.595503</td>\n",
              "      <td>0.457104</td>\n",
              "      <td>0.92</td>\n",
              "    </tr>\n",
              "    <tr>\n",
              "      <th>2313255</th>\n",
              "      <td>1714.21</td>\n",
              "      <td>12.0</td>\n",
              "      <td>0.01</td>\n",
              "      <td>75.0</td>\n",
              "      <td>33.7500</td>\n",
              "      <td>-13.79540</td>\n",
              "      <td>1.08556</td>\n",
              "      <td>1.75416</td>\n",
              "      <td>-13.79540</td>\n",
              "      <td>1.08556</td>\n",
              "      <td>...</td>\n",
              "      <td>-0.614643</td>\n",
              "      <td>0.212241</td>\n",
              "      <td>-0.748676</td>\n",
              "      <td>-0.129043</td>\n",
              "      <td>-0.614643</td>\n",
              "      <td>0.212241</td>\n",
              "      <td>-0.748676</td>\n",
              "      <td>-0.129043</td>\n",
              "      <td>-0.614643</td>\n",
              "      <td>0.75</td>\n",
              "    </tr>\n",
              "    <tr>\n",
              "      <th>1300750</th>\n",
              "      <td>2250.71</td>\n",
              "      <td>4.0</td>\n",
              "      <td>0.01</td>\n",
              "      <td>114.0</td>\n",
              "      <td>31.8125</td>\n",
              "      <td>-11.65710</td>\n",
              "      <td>5.34578</td>\n",
              "      <td>4.81232</td>\n",
              "      <td>-11.65710</td>\n",
              "      <td>5.34578</td>\n",
              "      <td>...</td>\n",
              "      <td>0.481982</td>\n",
              "      <td>0.376919</td>\n",
              "      <td>0.692996</td>\n",
              "      <td>0.381290</td>\n",
              "      <td>0.481982</td>\n",
              "      <td>0.376919</td>\n",
              "      <td>0.692996</td>\n",
              "      <td>0.381290</td>\n",
              "      <td>0.481982</td>\n",
              "      <td>1.14</td>\n",
              "    </tr>\n",
              "    <tr>\n",
              "      <th>1867181</th>\n",
              "      <td>871.61</td>\n",
              "      <td>17.0</td>\n",
              "      <td>0.01</td>\n",
              "      <td>90.0</td>\n",
              "      <td>33.7500</td>\n",
              "      <td>-4.99214</td>\n",
              "      <td>2.72261</td>\n",
              "      <td>5.84470</td>\n",
              "      <td>-4.99214</td>\n",
              "      <td>2.72261</td>\n",
              "      <td>...</td>\n",
              "      <td>0.616373</td>\n",
              "      <td>0.177018</td>\n",
              "      <td>0.743926</td>\n",
              "      <td>0.187943</td>\n",
              "      <td>0.616373</td>\n",
              "      <td>0.177018</td>\n",
              "      <td>0.743926</td>\n",
              "      <td>0.187943</td>\n",
              "      <td>0.616373</td>\n",
              "      <td>0.90</td>\n",
              "    </tr>\n",
              "    <tr>\n",
              "      <th>2398056</th>\n",
              "      <td>2562.22</td>\n",
              "      <td>7.0</td>\n",
              "      <td>0.01</td>\n",
              "      <td>122.0</td>\n",
              "      <td>33.0625</td>\n",
              "      <td>-1.98287</td>\n",
              "      <td>8.78224</td>\n",
              "      <td>-1.21234</td>\n",
              "      <td>-1.98287</td>\n",
              "      <td>8.78224</td>\n",
              "      <td>...</td>\n",
              "      <td>0.375407</td>\n",
              "      <td>0.528955</td>\n",
              "      <td>0.329020</td>\n",
              "      <td>0.686311</td>\n",
              "      <td>0.375407</td>\n",
              "      <td>0.528955</td>\n",
              "      <td>0.329020</td>\n",
              "      <td>0.686311</td>\n",
              "      <td>0.375407</td>\n",
              "      <td>1.22</td>\n",
              "    </tr>\n",
              "  </tbody>\n",
              "</table>\n",
              "<p>122848 rows × 150 columns</p>\n",
              "</div>\n",
              "      <button class=\"colab-df-convert\" onclick=\"convertToInteractive('df-47275c84-b8e9-47e3-8c20-4005a0acac73')\"\n",
              "              title=\"Convert this dataframe to an interactive table.\"\n",
              "              style=\"display:none;\">\n",
              "        \n",
              "  <svg xmlns=\"http://www.w3.org/2000/svg\" height=\"24px\"viewBox=\"0 0 24 24\"\n",
              "       width=\"24px\">\n",
              "    <path d=\"M0 0h24v24H0V0z\" fill=\"none\"/>\n",
              "    <path d=\"M18.56 5.44l.94 2.06.94-2.06 2.06-.94-2.06-.94-.94-2.06-.94 2.06-2.06.94zm-11 1L8.5 8.5l.94-2.06 2.06-.94-2.06-.94L8.5 2.5l-.94 2.06-2.06.94zm10 10l.94 2.06.94-2.06 2.06-.94-2.06-.94-.94-2.06-.94 2.06-2.06.94z\"/><path d=\"M17.41 7.96l-1.37-1.37c-.4-.4-.92-.59-1.43-.59-.52 0-1.04.2-1.43.59L10.3 9.45l-7.72 7.72c-.78.78-.78 2.05 0 2.83L4 21.41c.39.39.9.59 1.41.59.51 0 1.02-.2 1.41-.59l7.78-7.78 2.81-2.81c.8-.78.8-2.07 0-2.86zM5.41 20L4 18.59l7.72-7.72 1.47 1.35L5.41 20z\"/>\n",
              "  </svg>\n",
              "      </button>\n",
              "      \n",
              "  <style>\n",
              "    .colab-df-container {\n",
              "      display:flex;\n",
              "      flex-wrap:wrap;\n",
              "      gap: 12px;\n",
              "    }\n",
              "\n",
              "    .colab-df-convert {\n",
              "      background-color: #E8F0FE;\n",
              "      border: none;\n",
              "      border-radius: 50%;\n",
              "      cursor: pointer;\n",
              "      display: none;\n",
              "      fill: #1967D2;\n",
              "      height: 32px;\n",
              "      padding: 0 0 0 0;\n",
              "      width: 32px;\n",
              "    }\n",
              "\n",
              "    .colab-df-convert:hover {\n",
              "      background-color: #E2EBFA;\n",
              "      box-shadow: 0px 1px 2px rgba(60, 64, 67, 0.3), 0px 1px 3px 1px rgba(60, 64, 67, 0.15);\n",
              "      fill: #174EA6;\n",
              "    }\n",
              "\n",
              "    [theme=dark] .colab-df-convert {\n",
              "      background-color: #3B4455;\n",
              "      fill: #D2E3FC;\n",
              "    }\n",
              "\n",
              "    [theme=dark] .colab-df-convert:hover {\n",
              "      background-color: #434B5C;\n",
              "      box-shadow: 0px 1px 3px 1px rgba(0, 0, 0, 0.15);\n",
              "      filter: drop-shadow(0px 1px 2px rgba(0, 0, 0, 0.3));\n",
              "      fill: #FFFFFF;\n",
              "    }\n",
              "  </style>\n",
              "\n",
              "      <script>\n",
              "        const buttonEl =\n",
              "          document.querySelector('#df-47275c84-b8e9-47e3-8c20-4005a0acac73 button.colab-df-convert');\n",
              "        buttonEl.style.display =\n",
              "          google.colab.kernel.accessAllowed ? 'block' : 'none';\n",
              "\n",
              "        async function convertToInteractive(key) {\n",
              "          const element = document.querySelector('#df-47275c84-b8e9-47e3-8c20-4005a0acac73');\n",
              "          const dataTable =\n",
              "            await google.colab.kernel.invokeFunction('convertToInteractive',\n",
              "                                                     [key], {});\n",
              "          if (!dataTable) return;\n",
              "\n",
              "          const docLinkHtml = 'Like what you see? Visit the ' +\n",
              "            '<a target=\"_blank\" href=https://colab.research.google.com/notebooks/data_table.ipynb>data table notebook</a>'\n",
              "            + ' to learn more about interactive tables.';\n",
              "          element.innerHTML = '';\n",
              "          dataTable['output_type'] = 'display_data';\n",
              "          await google.colab.output.renderOutput(dataTable, element);\n",
              "          const docLink = document.createElement('div');\n",
              "          docLink.innerHTML = docLinkHtml;\n",
              "          element.appendChild(docLink);\n",
              "        }\n",
              "      </script>\n",
              "    </div>\n",
              "  </div>\n",
              "  "
            ]
          },
          "metadata": {},
          "execution_count": 40
        }
      ],
      "source": [
        "train_set"
      ]
    },
    {
      "cell_type": "markdown",
      "metadata": {
        "id": "lwBTB58-JXFi"
      },
      "source": [
        "#**Exploratory Data Analysis**"
      ]
    },
    {
      "cell_type": "code",
      "execution_count": null,
      "metadata": {
        "id": "Ek6-CgNIJ-TQ"
      },
      "outputs": [],
      "source": [
        "import seaborn as sns\n",
        "import numpy as np\n",
        "import matplotlib.pyplot as plt \n",
        "\n",
        "sns.set_theme(\"notebook\")"
      ]
    },
    {
      "cell_type": "code",
      "execution_count": null,
      "metadata": {
        "colab": {
          "base_uri": "https://localhost:8080/",
          "height": 642
        },
        "id": "tLqUspTems0a",
        "outputId": "add3c11a-d4a2-497a-e0f7-aa67eb44f28c"
      },
      "outputs": [
        {
          "output_type": "execute_result",
          "data": {
            "text/plain": [
              "                       timestamp_s  activityID  duration  heart_rate_bpm  \\\n",
              "timestamp_s               1.000000    0.144487  0.016728        0.779834   \n",
              "activityID                0.144487    1.000000  0.000244        0.266898   \n",
              "duration                  0.016728    0.000244  1.000000        0.024173   \n",
              "heart_rate_bpm            0.779834    0.266898  0.024173        1.000000   \n",
              "IMU_hand_temperature     -0.488364    0.159943 -0.019687       -0.391462   \n",
              "...                            ...         ...       ...             ...   \n",
              "IMU_ankle_orientation     0.214775    0.072854  0.036130        0.369961   \n",
              "IMU_ankle_orientation     0.015744    0.184982 -0.001572       -0.010029   \n",
              "IMU_ankle_orientation     0.130406   -0.057505 -0.014455        0.033028   \n",
              "IMU_ankle_orientation     0.174238    0.337427  0.003750        0.150173   \n",
              "aggregate                 0.779834    0.266898  0.024173        1.000000   \n",
              "\n",
              "                       IMU_hand_temperature  \\\n",
              "timestamp_s                       -0.488364   \n",
              "activityID                         0.159943   \n",
              "duration                          -0.019687   \n",
              "heart_rate_bpm                    -0.391462   \n",
              "IMU_hand_temperature               1.000000   \n",
              "...                                     ...   \n",
              "IMU_ankle_orientation             -0.137939   \n",
              "IMU_ankle_orientation              0.075870   \n",
              "IMU_ankle_orientation             -0.050773   \n",
              "IMU_ankle_orientation              0.074753   \n",
              "aggregate                         -0.391462   \n",
              "\n",
              "                       IMU_hand_3D-acceleration_scale: ±16g  \\\n",
              "timestamp_s                                       -0.324339   \n",
              "activityID                                        -0.134438   \n",
              "duration                                          -0.010923   \n",
              "heart_rate_bpm                                    -0.303090   \n",
              "IMU_hand_temperature                               0.057051   \n",
              "...                                                     ...   \n",
              "IMU_ankle_orientation                             -0.075562   \n",
              "IMU_ankle_orientation                              0.039917   \n",
              "IMU_ankle_orientation                             -0.013202   \n",
              "IMU_ankle_orientation                             -0.126442   \n",
              "aggregate                                         -0.303090   \n",
              "\n",
              "                       IMU_hand_3D-acceleration_scale: ±16g  \\\n",
              "timestamp_s                                        0.037455   \n",
              "activityID                                         0.040329   \n",
              "duration                                           0.017731   \n",
              "heart_rate_bpm                                     0.064636   \n",
              "IMU_hand_temperature                              -0.050456   \n",
              "...                                                     ...   \n",
              "IMU_ankle_orientation                              0.061530   \n",
              "IMU_ankle_orientation                             -0.042607   \n",
              "IMU_ankle_orientation                             -0.079735   \n",
              "IMU_ankle_orientation                             -0.016575   \n",
              "aggregate                                          0.064636   \n",
              "\n",
              "                       IMU_hand_3D-acceleration_scale: ±16g  \\\n",
              "timestamp_s                                       -0.216005   \n",
              "activityID                                        -0.117968   \n",
              "duration                                          -0.004285   \n",
              "heart_rate_bpm                                    -0.268690   \n",
              "IMU_hand_temperature                               0.078210   \n",
              "...                                                     ...   \n",
              "IMU_ankle_orientation                             -0.071037   \n",
              "IMU_ankle_orientation                              0.059832   \n",
              "IMU_ankle_orientation                             -0.036968   \n",
              "IMU_ankle_orientation                             -0.045247   \n",
              "aggregate                                         -0.268690   \n",
              "\n",
              "                       IMU_hand_3D-acceleration_scale: ±16g  \\\n",
              "timestamp_s                                       -0.324339   \n",
              "activityID                                        -0.134438   \n",
              "duration                                          -0.010923   \n",
              "heart_rate_bpm                                    -0.303090   \n",
              "IMU_hand_temperature                               0.057051   \n",
              "...                                                     ...   \n",
              "IMU_ankle_orientation                             -0.075562   \n",
              "IMU_ankle_orientation                              0.039917   \n",
              "IMU_ankle_orientation                             -0.013202   \n",
              "IMU_ankle_orientation                             -0.126442   \n",
              "aggregate                                         -0.303090   \n",
              "\n",
              "                       IMU_hand_3D-acceleration_scale: ±16g  ...  \\\n",
              "timestamp_s                                        0.037455  ...   \n",
              "activityID                                         0.040329  ...   \n",
              "duration                                           0.017731  ...   \n",
              "heart_rate_bpm                                     0.064636  ...   \n",
              "IMU_hand_temperature                              -0.050456  ...   \n",
              "...                                                     ...  ...   \n",
              "IMU_ankle_orientation                              0.061530  ...   \n",
              "IMU_ankle_orientation                             -0.042607  ...   \n",
              "IMU_ankle_orientation                             -0.079735  ...   \n",
              "IMU_ankle_orientation                             -0.016575  ...   \n",
              "aggregate                                          0.064636  ...   \n",
              "\n",
              "                       IMU_ankle_orientation  IMU_ankle_orientation  \\\n",
              "timestamp_s                         0.174238               0.214775   \n",
              "activityID                          0.337427               0.072854   \n",
              "duration                            0.003750               0.036130   \n",
              "heart_rate_bpm                      0.150173               0.369961   \n",
              "IMU_hand_temperature                0.074753              -0.137939   \n",
              "...                                      ...                    ...   \n",
              "IMU_ankle_orientation               0.061774               1.000000   \n",
              "IMU_ankle_orientation               0.852552              -0.028900   \n",
              "IMU_ankle_orientation              -0.041299               0.024671   \n",
              "IMU_ankle_orientation               1.000000               0.061774   \n",
              "aggregate                           0.150173               0.369961   \n",
              "\n",
              "                       IMU_ankle_orientation  IMU_ankle_orientation  \\\n",
              "timestamp_s                         0.015744               0.130406   \n",
              "activityID                          0.184982              -0.057505   \n",
              "duration                           -0.001572              -0.014455   \n",
              "heart_rate_bpm                     -0.010029               0.033028   \n",
              "IMU_hand_temperature                0.075870              -0.050773   \n",
              "...                                      ...                    ...   \n",
              "IMU_ankle_orientation              -0.028900               0.024671   \n",
              "IMU_ankle_orientation               1.000000               0.086870   \n",
              "IMU_ankle_orientation               0.086870               1.000000   \n",
              "IMU_ankle_orientation               0.852552              -0.041299   \n",
              "aggregate                          -0.010029               0.033028   \n",
              "\n",
              "                       IMU_ankle_orientation  IMU_ankle_orientation  \\\n",
              "timestamp_s                         0.174238               0.214775   \n",
              "activityID                          0.337427               0.072854   \n",
              "duration                            0.003750               0.036130   \n",
              "heart_rate_bpm                      0.150173               0.369961   \n",
              "IMU_hand_temperature                0.074753              -0.137939   \n",
              "...                                      ...                    ...   \n",
              "IMU_ankle_orientation               0.061774               1.000000   \n",
              "IMU_ankle_orientation               0.852552              -0.028900   \n",
              "IMU_ankle_orientation              -0.041299               0.024671   \n",
              "IMU_ankle_orientation               1.000000               0.061774   \n",
              "aggregate                           0.150173               0.369961   \n",
              "\n",
              "                       IMU_ankle_orientation  IMU_ankle_orientation  \\\n",
              "timestamp_s                         0.015744               0.130406   \n",
              "activityID                          0.184982              -0.057505   \n",
              "duration                           -0.001572              -0.014455   \n",
              "heart_rate_bpm                     -0.010029               0.033028   \n",
              "IMU_hand_temperature                0.075870              -0.050773   \n",
              "...                                      ...                    ...   \n",
              "IMU_ankle_orientation              -0.028900               0.024671   \n",
              "IMU_ankle_orientation               1.000000               0.086870   \n",
              "IMU_ankle_orientation               0.086870               1.000000   \n",
              "IMU_ankle_orientation               0.852552              -0.041299   \n",
              "aggregate                          -0.010029               0.033028   \n",
              "\n",
              "                       IMU_ankle_orientation  aggregate  \n",
              "timestamp_s                         0.174238   0.779834  \n",
              "activityID                          0.337427   0.266898  \n",
              "duration                            0.003750   0.024173  \n",
              "heart_rate_bpm                      0.150173   1.000000  \n",
              "IMU_hand_temperature                0.074753  -0.391462  \n",
              "...                                      ...        ...  \n",
              "IMU_ankle_orientation               0.061774   0.369961  \n",
              "IMU_ankle_orientation               0.852552  -0.010029  \n",
              "IMU_ankle_orientation              -0.041299   0.033028  \n",
              "IMU_ankle_orientation               1.000000   0.150173  \n",
              "aggregate                           0.150173   1.000000  \n",
              "\n",
              "[150 rows x 150 columns]"
            ],
            "text/html": [
              "\n",
              "  <div id=\"df-ce853b17-8f2b-41c3-9dad-e292a36996e8\">\n",
              "    <div class=\"colab-df-container\">\n",
              "      <div>\n",
              "<style scoped>\n",
              "    .dataframe tbody tr th:only-of-type {\n",
              "        vertical-align: middle;\n",
              "    }\n",
              "\n",
              "    .dataframe tbody tr th {\n",
              "        vertical-align: top;\n",
              "    }\n",
              "\n",
              "    .dataframe thead th {\n",
              "        text-align: right;\n",
              "    }\n",
              "</style>\n",
              "<table border=\"1\" class=\"dataframe\">\n",
              "  <thead>\n",
              "    <tr style=\"text-align: right;\">\n",
              "      <th></th>\n",
              "      <th>timestamp_s</th>\n",
              "      <th>activityID</th>\n",
              "      <th>duration</th>\n",
              "      <th>heart_rate_bpm</th>\n",
              "      <th>IMU_hand_temperature</th>\n",
              "      <th>IMU_hand_3D-acceleration_scale: ±16g</th>\n",
              "      <th>IMU_hand_3D-acceleration_scale: ±16g</th>\n",
              "      <th>IMU_hand_3D-acceleration_scale: ±16g</th>\n",
              "      <th>IMU_hand_3D-acceleration_scale: ±16g</th>\n",
              "      <th>IMU_hand_3D-acceleration_scale: ±16g</th>\n",
              "      <th>...</th>\n",
              "      <th>IMU_ankle_orientation</th>\n",
              "      <th>IMU_ankle_orientation</th>\n",
              "      <th>IMU_ankle_orientation</th>\n",
              "      <th>IMU_ankle_orientation</th>\n",
              "      <th>IMU_ankle_orientation</th>\n",
              "      <th>IMU_ankle_orientation</th>\n",
              "      <th>IMU_ankle_orientation</th>\n",
              "      <th>IMU_ankle_orientation</th>\n",
              "      <th>IMU_ankle_orientation</th>\n",
              "      <th>aggregate</th>\n",
              "    </tr>\n",
              "  </thead>\n",
              "  <tbody>\n",
              "    <tr>\n",
              "      <th>timestamp_s</th>\n",
              "      <td>1.000000</td>\n",
              "      <td>0.144487</td>\n",
              "      <td>0.016728</td>\n",
              "      <td>0.779834</td>\n",
              "      <td>-0.488364</td>\n",
              "      <td>-0.324339</td>\n",
              "      <td>0.037455</td>\n",
              "      <td>-0.216005</td>\n",
              "      <td>-0.324339</td>\n",
              "      <td>0.037455</td>\n",
              "      <td>...</td>\n",
              "      <td>0.174238</td>\n",
              "      <td>0.214775</td>\n",
              "      <td>0.015744</td>\n",
              "      <td>0.130406</td>\n",
              "      <td>0.174238</td>\n",
              "      <td>0.214775</td>\n",
              "      <td>0.015744</td>\n",
              "      <td>0.130406</td>\n",
              "      <td>0.174238</td>\n",
              "      <td>0.779834</td>\n",
              "    </tr>\n",
              "    <tr>\n",
              "      <th>activityID</th>\n",
              "      <td>0.144487</td>\n",
              "      <td>1.000000</td>\n",
              "      <td>0.000244</td>\n",
              "      <td>0.266898</td>\n",
              "      <td>0.159943</td>\n",
              "      <td>-0.134438</td>\n",
              "      <td>0.040329</td>\n",
              "      <td>-0.117968</td>\n",
              "      <td>-0.134438</td>\n",
              "      <td>0.040329</td>\n",
              "      <td>...</td>\n",
              "      <td>0.337427</td>\n",
              "      <td>0.072854</td>\n",
              "      <td>0.184982</td>\n",
              "      <td>-0.057505</td>\n",
              "      <td>0.337427</td>\n",
              "      <td>0.072854</td>\n",
              "      <td>0.184982</td>\n",
              "      <td>-0.057505</td>\n",
              "      <td>0.337427</td>\n",
              "      <td>0.266898</td>\n",
              "    </tr>\n",
              "    <tr>\n",
              "      <th>duration</th>\n",
              "      <td>0.016728</td>\n",
              "      <td>0.000244</td>\n",
              "      <td>1.000000</td>\n",
              "      <td>0.024173</td>\n",
              "      <td>-0.019687</td>\n",
              "      <td>-0.010923</td>\n",
              "      <td>0.017731</td>\n",
              "      <td>-0.004285</td>\n",
              "      <td>-0.010923</td>\n",
              "      <td>0.017731</td>\n",
              "      <td>...</td>\n",
              "      <td>0.003750</td>\n",
              "      <td>0.036130</td>\n",
              "      <td>-0.001572</td>\n",
              "      <td>-0.014455</td>\n",
              "      <td>0.003750</td>\n",
              "      <td>0.036130</td>\n",
              "      <td>-0.001572</td>\n",
              "      <td>-0.014455</td>\n",
              "      <td>0.003750</td>\n",
              "      <td>0.024173</td>\n",
              "    </tr>\n",
              "    <tr>\n",
              "      <th>heart_rate_bpm</th>\n",
              "      <td>0.779834</td>\n",
              "      <td>0.266898</td>\n",
              "      <td>0.024173</td>\n",
              "      <td>1.000000</td>\n",
              "      <td>-0.391462</td>\n",
              "      <td>-0.303090</td>\n",
              "      <td>0.064636</td>\n",
              "      <td>-0.268690</td>\n",
              "      <td>-0.303090</td>\n",
              "      <td>0.064636</td>\n",
              "      <td>...</td>\n",
              "      <td>0.150173</td>\n",
              "      <td>0.369961</td>\n",
              "      <td>-0.010029</td>\n",
              "      <td>0.033028</td>\n",
              "      <td>0.150173</td>\n",
              "      <td>0.369961</td>\n",
              "      <td>-0.010029</td>\n",
              "      <td>0.033028</td>\n",
              "      <td>0.150173</td>\n",
              "      <td>1.000000</td>\n",
              "    </tr>\n",
              "    <tr>\n",
              "      <th>IMU_hand_temperature</th>\n",
              "      <td>-0.488364</td>\n",
              "      <td>0.159943</td>\n",
              "      <td>-0.019687</td>\n",
              "      <td>-0.391462</td>\n",
              "      <td>1.000000</td>\n",
              "      <td>0.057051</td>\n",
              "      <td>-0.050456</td>\n",
              "      <td>0.078210</td>\n",
              "      <td>0.057051</td>\n",
              "      <td>-0.050456</td>\n",
              "      <td>...</td>\n",
              "      <td>0.074753</td>\n",
              "      <td>-0.137939</td>\n",
              "      <td>0.075870</td>\n",
              "      <td>-0.050773</td>\n",
              "      <td>0.074753</td>\n",
              "      <td>-0.137939</td>\n",
              "      <td>0.075870</td>\n",
              "      <td>-0.050773</td>\n",
              "      <td>0.074753</td>\n",
              "      <td>-0.391462</td>\n",
              "    </tr>\n",
              "    <tr>\n",
              "      <th>...</th>\n",
              "      <td>...</td>\n",
              "      <td>...</td>\n",
              "      <td>...</td>\n",
              "      <td>...</td>\n",
              "      <td>...</td>\n",
              "      <td>...</td>\n",
              "      <td>...</td>\n",
              "      <td>...</td>\n",
              "      <td>...</td>\n",
              "      <td>...</td>\n",
              "      <td>...</td>\n",
              "      <td>...</td>\n",
              "      <td>...</td>\n",
              "      <td>...</td>\n",
              "      <td>...</td>\n",
              "      <td>...</td>\n",
              "      <td>...</td>\n",
              "      <td>...</td>\n",
              "      <td>...</td>\n",
              "      <td>...</td>\n",
              "      <td>...</td>\n",
              "    </tr>\n",
              "    <tr>\n",
              "      <th>IMU_ankle_orientation</th>\n",
              "      <td>0.214775</td>\n",
              "      <td>0.072854</td>\n",
              "      <td>0.036130</td>\n",
              "      <td>0.369961</td>\n",
              "      <td>-0.137939</td>\n",
              "      <td>-0.075562</td>\n",
              "      <td>0.061530</td>\n",
              "      <td>-0.071037</td>\n",
              "      <td>-0.075562</td>\n",
              "      <td>0.061530</td>\n",
              "      <td>...</td>\n",
              "      <td>0.061774</td>\n",
              "      <td>1.000000</td>\n",
              "      <td>-0.028900</td>\n",
              "      <td>0.024671</td>\n",
              "      <td>0.061774</td>\n",
              "      <td>1.000000</td>\n",
              "      <td>-0.028900</td>\n",
              "      <td>0.024671</td>\n",
              "      <td>0.061774</td>\n",
              "      <td>0.369961</td>\n",
              "    </tr>\n",
              "    <tr>\n",
              "      <th>IMU_ankle_orientation</th>\n",
              "      <td>0.015744</td>\n",
              "      <td>0.184982</td>\n",
              "      <td>-0.001572</td>\n",
              "      <td>-0.010029</td>\n",
              "      <td>0.075870</td>\n",
              "      <td>0.039917</td>\n",
              "      <td>-0.042607</td>\n",
              "      <td>0.059832</td>\n",
              "      <td>0.039917</td>\n",
              "      <td>-0.042607</td>\n",
              "      <td>...</td>\n",
              "      <td>0.852552</td>\n",
              "      <td>-0.028900</td>\n",
              "      <td>1.000000</td>\n",
              "      <td>0.086870</td>\n",
              "      <td>0.852552</td>\n",
              "      <td>-0.028900</td>\n",
              "      <td>1.000000</td>\n",
              "      <td>0.086870</td>\n",
              "      <td>0.852552</td>\n",
              "      <td>-0.010029</td>\n",
              "    </tr>\n",
              "    <tr>\n",
              "      <th>IMU_ankle_orientation</th>\n",
              "      <td>0.130406</td>\n",
              "      <td>-0.057505</td>\n",
              "      <td>-0.014455</td>\n",
              "      <td>0.033028</td>\n",
              "      <td>-0.050773</td>\n",
              "      <td>-0.013202</td>\n",
              "      <td>-0.079735</td>\n",
              "      <td>-0.036968</td>\n",
              "      <td>-0.013202</td>\n",
              "      <td>-0.079735</td>\n",
              "      <td>...</td>\n",
              "      <td>-0.041299</td>\n",
              "      <td>0.024671</td>\n",
              "      <td>0.086870</td>\n",
              "      <td>1.000000</td>\n",
              "      <td>-0.041299</td>\n",
              "      <td>0.024671</td>\n",
              "      <td>0.086870</td>\n",
              "      <td>1.000000</td>\n",
              "      <td>-0.041299</td>\n",
              "      <td>0.033028</td>\n",
              "    </tr>\n",
              "    <tr>\n",
              "      <th>IMU_ankle_orientation</th>\n",
              "      <td>0.174238</td>\n",
              "      <td>0.337427</td>\n",
              "      <td>0.003750</td>\n",
              "      <td>0.150173</td>\n",
              "      <td>0.074753</td>\n",
              "      <td>-0.126442</td>\n",
              "      <td>-0.016575</td>\n",
              "      <td>-0.045247</td>\n",
              "      <td>-0.126442</td>\n",
              "      <td>-0.016575</td>\n",
              "      <td>...</td>\n",
              "      <td>1.000000</td>\n",
              "      <td>0.061774</td>\n",
              "      <td>0.852552</td>\n",
              "      <td>-0.041299</td>\n",
              "      <td>1.000000</td>\n",
              "      <td>0.061774</td>\n",
              "      <td>0.852552</td>\n",
              "      <td>-0.041299</td>\n",
              "      <td>1.000000</td>\n",
              "      <td>0.150173</td>\n",
              "    </tr>\n",
              "    <tr>\n",
              "      <th>aggregate</th>\n",
              "      <td>0.779834</td>\n",
              "      <td>0.266898</td>\n",
              "      <td>0.024173</td>\n",
              "      <td>1.000000</td>\n",
              "      <td>-0.391462</td>\n",
              "      <td>-0.303090</td>\n",
              "      <td>0.064636</td>\n",
              "      <td>-0.268690</td>\n",
              "      <td>-0.303090</td>\n",
              "      <td>0.064636</td>\n",
              "      <td>...</td>\n",
              "      <td>0.150173</td>\n",
              "      <td>0.369961</td>\n",
              "      <td>-0.010029</td>\n",
              "      <td>0.033028</td>\n",
              "      <td>0.150173</td>\n",
              "      <td>0.369961</td>\n",
              "      <td>-0.010029</td>\n",
              "      <td>0.033028</td>\n",
              "      <td>0.150173</td>\n",
              "      <td>1.000000</td>\n",
              "    </tr>\n",
              "  </tbody>\n",
              "</table>\n",
              "<p>150 rows × 150 columns</p>\n",
              "</div>\n",
              "      <button class=\"colab-df-convert\" onclick=\"convertToInteractive('df-ce853b17-8f2b-41c3-9dad-e292a36996e8')\"\n",
              "              title=\"Convert this dataframe to an interactive table.\"\n",
              "              style=\"display:none;\">\n",
              "        \n",
              "  <svg xmlns=\"http://www.w3.org/2000/svg\" height=\"24px\"viewBox=\"0 0 24 24\"\n",
              "       width=\"24px\">\n",
              "    <path d=\"M0 0h24v24H0V0z\" fill=\"none\"/>\n",
              "    <path d=\"M18.56 5.44l.94 2.06.94-2.06 2.06-.94-2.06-.94-.94-2.06-.94 2.06-2.06.94zm-11 1L8.5 8.5l.94-2.06 2.06-.94-2.06-.94L8.5 2.5l-.94 2.06-2.06.94zm10 10l.94 2.06.94-2.06 2.06-.94-2.06-.94-.94-2.06-.94 2.06-2.06.94z\"/><path d=\"M17.41 7.96l-1.37-1.37c-.4-.4-.92-.59-1.43-.59-.52 0-1.04.2-1.43.59L10.3 9.45l-7.72 7.72c-.78.78-.78 2.05 0 2.83L4 21.41c.39.39.9.59 1.41.59.51 0 1.02-.2 1.41-.59l7.78-7.78 2.81-2.81c.8-.78.8-2.07 0-2.86zM5.41 20L4 18.59l7.72-7.72 1.47 1.35L5.41 20z\"/>\n",
              "  </svg>\n",
              "      </button>\n",
              "      \n",
              "  <style>\n",
              "    .colab-df-container {\n",
              "      display:flex;\n",
              "      flex-wrap:wrap;\n",
              "      gap: 12px;\n",
              "    }\n",
              "\n",
              "    .colab-df-convert {\n",
              "      background-color: #E8F0FE;\n",
              "      border: none;\n",
              "      border-radius: 50%;\n",
              "      cursor: pointer;\n",
              "      display: none;\n",
              "      fill: #1967D2;\n",
              "      height: 32px;\n",
              "      padding: 0 0 0 0;\n",
              "      width: 32px;\n",
              "    }\n",
              "\n",
              "    .colab-df-convert:hover {\n",
              "      background-color: #E2EBFA;\n",
              "      box-shadow: 0px 1px 2px rgba(60, 64, 67, 0.3), 0px 1px 3px 1px rgba(60, 64, 67, 0.15);\n",
              "      fill: #174EA6;\n",
              "    }\n",
              "\n",
              "    [theme=dark] .colab-df-convert {\n",
              "      background-color: #3B4455;\n",
              "      fill: #D2E3FC;\n",
              "    }\n",
              "\n",
              "    [theme=dark] .colab-df-convert:hover {\n",
              "      background-color: #434B5C;\n",
              "      box-shadow: 0px 1px 3px 1px rgba(0, 0, 0, 0.15);\n",
              "      filter: drop-shadow(0px 1px 2px rgba(0, 0, 0, 0.3));\n",
              "      fill: #FFFFFF;\n",
              "    }\n",
              "  </style>\n",
              "\n",
              "      <script>\n",
              "        const buttonEl =\n",
              "          document.querySelector('#df-ce853b17-8f2b-41c3-9dad-e292a36996e8 button.colab-df-convert');\n",
              "        buttonEl.style.display =\n",
              "          google.colab.kernel.accessAllowed ? 'block' : 'none';\n",
              "\n",
              "        async function convertToInteractive(key) {\n",
              "          const element = document.querySelector('#df-ce853b17-8f2b-41c3-9dad-e292a36996e8');\n",
              "          const dataTable =\n",
              "            await google.colab.kernel.invokeFunction('convertToInteractive',\n",
              "                                                     [key], {});\n",
              "          if (!dataTable) return;\n",
              "\n",
              "          const docLinkHtml = 'Like what you see? Visit the ' +\n",
              "            '<a target=\"_blank\" href=https://colab.research.google.com/notebooks/data_table.ipynb>data table notebook</a>'\n",
              "            + ' to learn more about interactive tables.';\n",
              "          element.innerHTML = '';\n",
              "          dataTable['output_type'] = 'display_data';\n",
              "          await google.colab.output.renderOutput(dataTable, element);\n",
              "          const docLink = document.createElement('div');\n",
              "          docLink.innerHTML = docLinkHtml;\n",
              "          element.appendChild(docLink);\n",
              "        }\n",
              "      </script>\n",
              "    </div>\n",
              "  </div>\n",
              "  "
            ]
          },
          "metadata": {},
          "execution_count": 18
        }
      ],
      "source": [
        "correlation_df = train_set.corr() #displays correlation\n",
        "correlation_df"
      ]
    },
    {
      "cell_type": "code",
      "execution_count": null,
      "metadata": {
        "colab": {
          "base_uri": "https://localhost:8080/",
          "height": 508
        },
        "id": "hkSSKVce7iVz",
        "outputId": "21c51437-6c0e-4ea6-ff3a-210443c06147"
      },
      "outputs": [
        {
          "output_type": "execute_result",
          "data": {
            "text/plain": [
              "<matplotlib.axes._subplots.AxesSubplot at 0x7f52b2606350>"
            ]
          },
          "metadata": {},
          "execution_count": 19
        },
        {
          "output_type": "display_data",
          "data": {
            "text/plain": [
              "<Figure size 432x288 with 2 Axes>"
            ],
            "image/png": "[encoded data removed]"
          },
          "metadata": {}
        }
      ],
      "source": [
        "sns.heatmap(correlation_df)"
      ]
    },
    {
      "cell_type": "markdown",
      "metadata": {
        "id": "8xfiZxvZntES"
      },
      "source": [
        "It can be seen from the plot above that the heart rate shares a negative correlation with the IMU_hand_temperature and a positive correlation with the ankle orientation."
      ]
    },
    {
      "cell_type": "code",
      "execution_count": null,
      "metadata": {
        "colab": {
          "base_uri": "https://localhost:8080/",
          "height": 308
        },
        "id": "y3klEwjvnvSD",
        "outputId": "61b4e8df-56ad-4690-bfee-1ef875941032"
      },
      "outputs": [
        {
          "output_type": "execute_result",
          "data": {
            "text/plain": [
              "<matplotlib.axes._subplots.AxesSubplot at 0x7f52ae4a5610>"
            ]
          },
          "metadata": {},
          "execution_count": 20
        },
        {
          "output_type": "display_data",
          "data": {
            "text/plain": [
              "<Figure size 432x288 with 1 Axes>"
            ],
            "image/png": "[encoded data removed]"
          },
          "metadata": {}
        }
      ],
      "source": [
        "sns.histplot(train_set['heart_rate_bpm'], kde = True)"
      ]
    },
    {
      "cell_type": "markdown",
      "metadata": {
        "id": "unLc7vadn3B8"
      },
      "source": [
        "From the histogram plot above, it can be seen that the distribution of the heart rate across events performed by the subjects is not normal. It is skewed, with majority of counts between the heart rate of 80 and 140 beats per minute."
      ]
    },
    {
      "cell_type": "code",
      "execution_count": null,
      "metadata": {
        "colab": {
          "base_uri": "https://localhost:8080/",
          "height": 936
        },
        "id": "AhnhHrj5Ho0T",
        "outputId": "d031b43c-3569-43b8-f258-c50fd334485b"
      },
      "outputs": [
        {
          "output_type": "stream",
          "name": "stderr",
          "text": [
            "/usr/local/lib/python3.7/dist-packages/seaborn/axisgrid.py:670: UserWarning: Using the boxplot function without specifying `order` is likely to produce an incorrect plot.\n",
            "  warnings.warn(warning)\n"
          ]
        },
        {
          "output_type": "execute_result",
          "data": {
            "text/plain": [
              "<seaborn.axisgrid.FacetGrid at 0x7f52ac68b810>"
            ]
          },
          "metadata": {},
          "execution_count": 21
        },
        {
          "output_type": "display_data",
          "data": {
            "text/plain": [
              "<Figure size 648x864 with 12 Axes>"
            ],
            "image/png": "[encoded data removed]"
          },
          "metadata": {}
        }
      ],
      "source": [
        "#Boxplot examining each activity\n",
        "\n",
        "g = sns.FacetGrid(train_set, col ='activityID', col_wrap = 3)\n",
        "g.map(sns.boxplot, 'heart_rate_bpm')\n"
      ]
    },
    {
      "cell_type": "markdown",
      "metadata": {
        "id": "IfQuB_Yso0DL"
      },
      "source": [
        "The Facet Grid abive shows the heart rate boxplots of each activity which examines the distribution of the heart rate per activity. Using the legend:\n",
        "\n",
        "- 1 lying\n",
        "– 2 sitting\n",
        "– 3 standing\n",
        "– 4 walking\n",
        "– 5 running\n",
        "– 6 cycling\n",
        "– 7 Nordic walking\n",
        "– 12 ascending stairs\n",
        "– 13 descending stairs\n",
        "– 16 vacuum cleaning\n",
        "– 17 ironing\n",
        "– 24 rope jumping, \n",
        "\n",
        "\n",
        "The following observations were made: . \n",
        "\n",
        "- Activities 3, 12, 13 and 24 have no outlier value and almost shows a normal distribution with no outlier values,\n",
        "\n",
        "- Activities 17,7,6,2,1 are either positively or negatively skewed with the most outlier values \n",
        "\n",
        "- Activities 5,16.0 are also positively or negatively skewed but they have lesser number of outliers"
      ]
    },
    {
      "cell_type": "code",
      "execution_count": null,
      "metadata": {
        "id": "z8lPjBXuz3ZC"
      },
      "outputs": [],
      "source": [
        "activity_df = train_set.groupby(train_set['activityID'])"
      ]
    },
    {
      "cell_type": "code",
      "execution_count": null,
      "metadata": {
        "colab": {
          "base_uri": "https://localhost:8080/",
          "height": 322
        },
        "id": "d8397AIk-UJt",
        "outputId": "9455931e-8312-4d35-d904-36413256c5fe"
      },
      "outputs": [
        {
          "output_type": "execute_result",
          "data": {
            "text/plain": [
              "<matplotlib.axes._subplots.AxesSubplot at 0x7f52ac120bd0>"
            ]
          },
          "metadata": {},
          "execution_count": 23
        },
        {
          "output_type": "display_data",
          "data": {
            "text/plain": [
              "<Figure size 432x288 with 1 Axes>"
            ],
            "image/png": "[encoded data removed]"
          },
          "metadata": {}
        }
      ],
      "source": [
        "#Bar chart showing the averages of each activity clearly\n",
        "\n",
        "activity_df['heart_rate_bpm'].mean().plot(kind = 'bar')\n"
      ]
    },
    {
      "cell_type": "markdown",
      "metadata": {
        "id": "2fmzBCrvuyWR"
      },
      "source": [
        "The bar plot above obtained by plotting the mean heart rate for each activity against the the activity. It shows that the two major activities likely to cause a high heart beat rate are activities 5 and 24 equivalent to running and rope jumping. They are thus the most stressful activities.\n",
        "\n",
        "It also shows that the two least likely activities to cause high heart beat rate are lying and sitting."
      ]
    },
    {
      "cell_type": "code",
      "execution_count": null,
      "metadata": {
        "colab": {
          "base_uri": "https://localhost:8080/",
          "height": 322
        },
        "id": "UKWot0p8DIi_",
        "outputId": "18a591f3-761f-41e3-922a-e4c50d7ea65f"
      },
      "outputs": [
        {
          "output_type": "execute_result",
          "data": {
            "text/plain": [
              "<matplotlib.axes._subplots.AxesSubplot at 0x7f52ac05df50>"
            ]
          },
          "metadata": {},
          "execution_count": 24
        },
        {
          "output_type": "display_data",
          "data": {
            "text/plain": [
              "<Figure size 432x288 with 1 Axes>"
            ],
            "image/png": "[encoded data removed]"
          },
          "metadata": {}
        }
      ],
      "source": [
        "#Bar chart showing the total duration of each activity\n",
        "\n",
        "\n",
        "#label axes\n",
        "\n",
        "activity_df['duration'].sum().plot(kind = 'bar')\n"
      ]
    },
    {
      "cell_type": "markdown",
      "metadata": {
        "id": "B3KcuTnxxnOo"
      },
      "source": [
        "The plot above shows that activity 24.0 and activity 5.0 and activity 13.0 takes the least total amount \n",
        "of time\n",
        "\n"
      ]
    },
    {
      "cell_type": "markdown",
      "metadata": {
        "id": "PCUPOzbm0TQN"
      },
      "source": [
        "The plot above showing the sum of duration per activity shows an inverse relationship with the earlier plot of heart rate mean per activity. This suggests an inverse relationship between the heart rate and the sum of duration of the activity."
      ]
    },
    {
      "cell_type": "code",
      "execution_count": null,
      "metadata": {
        "colab": {
          "base_uri": "https://localhost:8080/",
          "height": 322
        },
        "id": "qhPSiJR44XzK",
        "outputId": "181cee85-e14e-4e6c-ab38-78387deca54c"
      },
      "outputs": [
        {
          "output_type": "execute_result",
          "data": {
            "text/plain": [
              "<matplotlib.axes._subplots.AxesSubplot at 0x7f52abff3310>"
            ]
          },
          "metadata": {},
          "execution_count": 25
        },
        {
          "output_type": "display_data",
          "data": {
            "text/plain": [
              "<Figure size 432x288 with 1 Axes>"
            ],
            "image/png": "[encoded data removed]"
          },
          "metadata": {}
        }
      ],
      "source": [
        "activity_df['IMU_hand_temperature'].mean().plot(kind = 'bar')"
      ]
    },
    {
      "cell_type": "markdown",
      "metadata": {
        "id": "y9yLwahl0loi"
      },
      "source": [
        "From the plot above of the hand temperature against the activityID, it can be seen that there was no drastic change in the hand temperature across activities."
      ]
    },
    {
      "cell_type": "code",
      "execution_count": null,
      "metadata": {
        "colab": {
          "base_uri": "https://localhost:8080/",
          "height": 322
        },
        "id": "eJiTNFjpfoed",
        "outputId": "ae87deb9-ea0f-4f85-ae61-236826432be0"
      },
      "outputs": [
        {
          "output_type": "execute_result",
          "data": {
            "text/plain": [
              "<matplotlib.axes._subplots.AxesSubplot at 0x7f52abf6d110>"
            ]
          },
          "metadata": {},
          "execution_count": 26
        },
        {
          "output_type": "display_data",
          "data": {
            "text/plain": [
              "<Figure size 432x288 with 1 Axes>"
            ],
            "image/png": "[encoded data removed]"
          },
          "metadata": {}
        }
      ],
      "source": [
        "activity_df['IMU_ankle_temperature'].mean().plot(kind = 'bar')"
      ]
    },
    {
      "cell_type": "markdown",
      "metadata": {
        "id": "8jIKg_l81ewM"
      },
      "source": [
        "From the plot above of the ankle temperature against the activityID, it can be seen that there was no drastic change in the ankle temperature across activities."
      ]
    },
    {
      "cell_type": "code",
      "execution_count": null,
      "metadata": {
        "colab": {
          "base_uri": "https://localhost:8080/",
          "height": 322
        },
        "id": "ePGM4__7erQI",
        "outputId": "88ed85ba-f10c-483a-a8c7-ad785b20c328"
      },
      "outputs": [
        {
          "output_type": "execute_result",
          "data": {
            "text/plain": [
              "<matplotlib.axes._subplots.AxesSubplot at 0x7f52abeb34d0>"
            ]
          },
          "metadata": {},
          "execution_count": 27
        },
        {
          "output_type": "display_data",
          "data": {
            "text/plain": [
              "<Figure size 432x288 with 1 Axes>"
            ],
            "image/png": "[encoded data removed]"
          },
          "metadata": {}
        }
      ],
      "source": [
        "activity_df['IMU_chest_temperature'].mean().plot(kind = 'bar')"
      ]
    },
    {
      "cell_type": "markdown",
      "metadata": {
        "id": "5yKF4lh21mp-"
      },
      "source": [
        "From the plot above of the chest temperature against the activityID, it can be seen that there was no drastic change in the chest temperature across activities."
      ]
    },
    {
      "cell_type": "code",
      "execution_count": null,
      "metadata": {
        "colab": {
          "base_uri": "https://localhost:8080/",
          "height": 324
        },
        "id": "FJb5M78bjH98",
        "outputId": "614f4e52-c030-449b-b080-5f9fb6ee596f"
      },
      "outputs": [
        {
          "output_type": "execute_result",
          "data": {
            "text/plain": [
              "Text(0.5, 1.0, 'Heart rate vs activityID')"
            ]
          },
          "metadata": {},
          "execution_count": 28
        },
        {
          "output_type": "display_data",
          "data": {
            "text/plain": [
              "<Figure size 432x288 with 1 Axes>"
            ],
            "image/png": "[encoded data removed]"
          },
          "metadata": {}
        }
      ],
      "source": [
        "plt.scatter(train_set['activityID'], train_set['heart_rate_bpm'])\n",
        "plt.xlabel('Activity_ID')\n",
        "plt.ylabel('Heart_rate')\n",
        "plt.title('Heart rate vs activityID')"
      ]
    },
    {
      "cell_type": "markdown",
      "metadata": {
        "id": "tlqyw2OeBhxO"
      },
      "source": [
        "This is a scatter plot of the heart rate against activity ID to visualize the range of heart rate per activity. It can be seen that most activity ID's have a wide range of values."
      ]
    },
    {
      "cell_type": "code",
      "execution_count": null,
      "metadata": {
        "colab": {
          "base_uri": "https://localhost:8080/",
          "height": 308
        },
        "id": "7PMyp389ESnU",
        "outputId": "70e9339d-3783-4364-918f-dea1b1c733d2"
      },
      "outputs": [
        {
          "output_type": "execute_result",
          "data": {
            "text/plain": [
              "<matplotlib.axes._subplots.AxesSubplot at 0x7f52abd8f210>"
            ]
          },
          "metadata": {},
          "execution_count": 29
        },
        {
          "output_type": "display_data",
          "data": {
            "text/plain": [
              "<Figure size 432x288 with 1 Axes>"
            ],
            "image/png": "[encoded data removed]"
          },
          "metadata": {}
        }
      ],
      "source": [
        "sns.regplot(data = train_set, x = 'activityID', y = 'heart_rate_bpm', x_estimator = np.mean, order = 1 )"
      ]
    },
    {
      "cell_type": "markdown",
      "metadata": {
        "id": "5S7bBnSPE9nD"
      },
      "source": [
        "*Regression plot with an order of 1*"
      ]
    },
    {
      "cell_type": "code",
      "execution_count": null,
      "metadata": {
        "colab": {
          "base_uri": "https://localhost:8080/",
          "height": 308
        },
        "id": "vJoRpunzELuZ",
        "outputId": "4c56c89c-1850-4fc5-958c-c742e5d7d825"
      },
      "outputs": [
        {
          "output_type": "execute_result",
          "data": {
            "text/plain": [
              "<matplotlib.axes._subplots.AxesSubplot at 0x7f52abce4910>"
            ]
          },
          "metadata": {},
          "execution_count": 30
        },
        {
          "output_type": "display_data",
          "data": {
            "text/plain": [
              "<Figure size 432x288 with 1 Axes>"
            ],
            "image/png": "[encoded data removed]"
          },
          "metadata": {}
        }
      ],
      "source": [
        "sns.regplot(data = train_set, x = 'activityID', y = 'heart_rate_bpm', x_estimator = np.mean, order = 2 )"
      ]
    },
    {
      "cell_type": "markdown",
      "metadata": {
        "id": "GYabsWFYIdYt"
      },
      "source": [
        "*Regression plot with an order of 2*"
      ]
    },
    {
      "cell_type": "code",
      "execution_count": null,
      "metadata": {
        "colab": {
          "base_uri": "https://localhost:8080/",
          "height": 308
        },
        "id": "KvlHzYOSEV5m",
        "outputId": "45f00bce-04bb-470e-9da4-ec3fa0b1f0a9"
      },
      "outputs": [
        {
          "output_type": "execute_result",
          "data": {
            "text/plain": [
              "<matplotlib.axes._subplots.AxesSubplot at 0x7f52abca9290>"
            ]
          },
          "metadata": {},
          "execution_count": 31
        },
        {
          "output_type": "display_data",
          "data": {
            "text/plain": [
              "<Figure size 432x288 with 1 Axes>"
            ],
            "image/png": "[encoded data removed]"
          },
          "metadata": {}
        }
      ],
      "source": [
        "sns.regplot(data = train_set, x = 'activityID', y = 'heart_rate_bpm', x_estimator = np.mean, order = 3 )"
      ]
    },
    {
      "cell_type": "markdown",
      "metadata": {
        "id": "EibO-D1eIjA_"
      },
      "source": [
        "*Regression plot with an order of 3*"
      ]
    },
    {
      "cell_type": "code",
      "execution_count": null,
      "metadata": {
        "colab": {
          "base_uri": "https://localhost:8080/",
          "height": 308
        },
        "id": "Vz6RRRK8-rmJ",
        "outputId": "54184be3-9765-4d67-821c-ef051295545e"
      },
      "outputs": [
        {
          "output_type": "execute_result",
          "data": {
            "text/plain": [
              "<matplotlib.axes._subplots.AxesSubplot at 0x7f52abb787d0>"
            ]
          },
          "metadata": {},
          "execution_count": 32
        },
        {
          "output_type": "display_data",
          "data": {
            "text/plain": [
              "<Figure size 432x288 with 1 Axes>"
            ],
            "image/png": "[encoded data removed]"
          },
          "metadata": {}
        }
      ],
      "source": [
        "sns.regplot(data = train_set, x = 'activityID', y = 'heart_rate_bpm', x_estimator = np.mean, order = 4)"
      ]
    },
    {
      "cell_type": "markdown",
      "metadata": {
        "id": "nVns1K3yIozG"
      },
      "source": [
        "*Regression plot with an order of 4*"
      ]
    },
    {
      "cell_type": "markdown",
      "metadata": {
        "id": "1Ypzv4wCCeAs"
      },
      "source": [
        "A regression plot to examine the relationship between the heart rate and activityID. As the order of the regression function increases the model complexity increases, and this results in a reduction of the training error. \n",
        "\n",
        "This can be seen across the various regplots above with order ranging between one and four.\n",
        "\n",
        "The regression plot with the order of 4 is the best fitting model, although it can't be said to be the best predicting model."
      ]
    },
    {
      "cell_type": "code",
      "execution_count": null,
      "metadata": {
        "colab": {
          "base_uri": "https://localhost:8080/",
          "height": 308
        },
        "id": "ZlBbUJNdBbZh",
        "outputId": "1c4b8c6b-f15d-4d70-db7c-d17b737bb689"
      },
      "outputs": [
        {
          "output_type": "execute_result",
          "data": {
            "text/plain": [
              "<matplotlib.axes._subplots.AxesSubplot at 0x7f52b1eed510>"
            ]
          },
          "metadata": {},
          "execution_count": 33
        },
        {
          "output_type": "display_data",
          "data": {
            "text/plain": [
              "<Figure size 432x288 with 1 Axes>"
            ],
            "image/png": "[encoded data removed]"
          },
          "metadata": {}
        }
      ],
      "source": [
        "sns.regplot(data = train_set, x = 'activityID', y = 'duration', x_estimator = np.sum, order = 2)"
      ]
    },
    {
      "cell_type": "code",
      "execution_count": null,
      "metadata": {
        "colab": {
          "base_uri": "https://localhost:8080/",
          "height": 310
        },
        "id": "3qXo3mkVI4pd",
        "outputId": "feec4e39-3a66-4340-ec7a-6553ae2ba298"
      },
      "outputs": [
        {
          "output_type": "execute_result",
          "data": {
            "text/plain": [
              "<matplotlib.axes._subplots.AxesSubplot at 0x7f52abac8e50>"
            ]
          },
          "metadata": {},
          "execution_count": 34
        },
        {
          "output_type": "display_data",
          "data": {
            "text/plain": [
              "<Figure size 432x288 with 1 Axes>"
            ],
            "image/png": "[encoded data removed]"
          },
          "metadata": {}
        }
      ],
      "source": [
        "sns.regplot(data = train_set, x = 'heart_rate_bpm', y = 'duration', x_estimator = np.sum,  order = 3)"
      ]
    },
    {
      "cell_type": "markdown",
      "metadata": {
        "id": "ZYkBt9rklSbN"
      },
      "source": [
        "#**Hypothesis Testing**"
      ]
    },
    {
      "cell_type": "code",
      "execution_count": 80,
      "metadata": {
        "colab": {
          "base_uri": "https://localhost:8080/"
        },
        "id": "zgqp5vGIp5gq",
        "outputId": "fcc35282-aa68-4968-fe52-3b04fb0a2982"
      },
      "outputs": [
        {
          "output_type": "stream",
          "name": "stdout",
          "text": [
            "The spearman correlation coefficient between the heart_rate and duration is 0.034752424696636926 while the p_value is 1.5070219676655955e-15\n",
            "The pearson correlation coefficient between the heart_rate and duration is 0.024577187072660867 while the p_value is 1.6995339675420307e-08\n"
          ]
        }
      ],
      "source": [
        "#There's no relationship between the heart rate and the total duration performed.\n",
        "import scipy.stats\n",
        "\n",
        "spearman_corr_1, spearman_p_value_1 = scipy.stats.spearmanr(test_set['heart_rate_bpm'], test_set['duration'])\n",
        "print(f\"The spearman correlation coefficient between the heart_rate and duration is {spearman_corr_1} while the p_value is {spearman_p_value_1}\")\n",
        "\n",
        "\n",
        "pearson_corr_1, pearson_p_value_1 = scipy.stats.pearsonr(test_set['heart_rate_bpm'], test_set['duration'])\n",
        "print(f\"The pearson correlation coefficient between the heart_rate and duration is {pearson_corr_1} while the p_value is {pearson_p_value_1}\")\n"
      ]
    },
    {
      "cell_type": "markdown",
      "metadata": {
        "id": "acmrEfj9s_s7"
      },
      "source": [
        "Using a significance level of 95%.\n",
        "\n",
        "H0 = There's no relationship between duration and heart rate.\n",
        "H1 = There's a relationship between duration and heart rate.\n",
        "\n",
        "It can be seen that the p_value obtained from the spearman and pearson correlation coefficient is less than the significance level 0.05, thus we reject our null hypothesis,H0, that there's no relationship between duration and heart rate and conclude that there's a relationship between duration of activity and heart rate."
      ]
    },
    {
      "cell_type": "code",
      "execution_count": 77,
      "metadata": {
        "colab": {
          "base_uri": "https://localhost:8080/"
        },
        "id": "0TN6htCArjGq",
        "outputId": "712bce2b-afd5-4748-9ef1-5b0b89d88e90"
      },
      "outputs": [
        {
          "output_type": "stream",
          "name": "stdout",
          "text": [
            "The spearman correlation coefficient between the heart_rate and activity_ID is 0.40596514019953367 while the p_value is 0.0\n",
            "The pearson correlation coefficient between the heart_rate and duration is 0.2659603246216376 while the p_value is 0.0\n"
          ]
        }
      ],
      "source": [
        "#There's no relationship between the heart rate and the activity ID performed.\n",
        "import scipy.stats\n",
        "\n",
        "spearman_corr_2, spearman_p_value_2 = scipy.stats.spearmanr(test_set['heart_rate_bpm'], test_set['activityID'])\n",
        "print(f\"The spearman correlation coefficient between the heart_rate and activity_ID is {spearman_corr_2} while the p_value is {spearman_p_value_2}\")\n",
        "\n",
        "\n",
        "pearson_corr_2, pearson_p_value_2 = scipy.stats.pearsonr(test_set['heart_rate_bpm'], test_set['activityID'])\n",
        "print(f\"The pearson correlation coefficient between the heart_rate and duration is {pearson_corr_2} while the p_value is {pearson_p_value_2}\")"
      ]
    },
    {
      "cell_type": "markdown",
      "metadata": {
        "id": "FwxfqzTntfbY"
      },
      "source": [
        "Using a significance level of 95%.\n",
        "\n",
        "H0 = There's no relationship between activity ID and heart rate.\n",
        "H1 = There's a relationship between activity ID and heart rate.\n",
        "\n",
        "It can be seen that the p_value obtained from the spearman and pearson correlation coefficient is less than the significance level 0.05, thus we reject our null hypothesis,H0, and conclude that there's a relationship between activityID and heart rate."
      ]
    },
    {
      "cell_type": "markdown",
      "source": [
        "#XGBOOST without Dimensionality Reduction"
      ],
      "metadata": {
        "id": "L5yMDqUFPmuj"
      }
    },
    {
      "cell_type": "code",
      "source": [
        "!pip install xgboost"
      ],
      "metadata": {
        "colab": {
          "base_uri": "https://localhost:8080/"
        },
        "id": "w_BnMsMMPmFI",
        "outputId": "b4bf3652-e95e-49e3-886b-c36a81a3e1dd"
      },
      "execution_count": null,
      "outputs": [
        {
          "output_type": "stream",
          "name": "stdout",
          "text": [
            "Looking in indexes: https://pypi.org/simple, https://us-python.pkg.dev/colab-wheels/public/simple/\n",
            "Requirement already satisfied: xgboost in /usr/local/lib/python3.7/dist-packages (0.90)\n",
            "Requirement already satisfied: scipy in /usr/local/lib/python3.7/dist-packages (from xgboost) (1.7.3)\n",
            "Requirement already satisfied: numpy in /usr/local/lib/python3.7/dist-packages (from xgboost) (1.21.6)\n"
          ]
        }
      ]
    },
    {
      "cell_type": "code",
      "source": [
        "from xgboost import XGBClassifier\n",
        "import numpy as np"
      ],
      "metadata": {
        "id": "kzzEUonlP7R4"
      },
      "execution_count": null,
      "outputs": []
    },
    {
      "cell_type": "code",
      "source": [
        "train_set.columns"
      ],
      "metadata": {
        "id": "fwfLu3tHUNGJ"
      },
      "execution_count": null,
      "outputs": []
    },
    {
      "cell_type": "code",
      "source": [
        "#Excludes timestamp from and activity ID\n",
        "\n",
        "x = np.array(train_set.iloc[:, 2:])\n",
        "y = train_set['activityID']\n",
        "\n",
        "x_test = np.array(test_set.iloc[:, 2:])\n",
        "y_test = test_set['activityID']"
      ],
      "metadata": {
        "id": "IEcTFseSQAh1"
      },
      "execution_count": null,
      "outputs": []
    },
    {
      "cell_type": "code",
      "source": [
        "train_set.iloc[:,2:]"
      ],
      "metadata": {
        "colab": {
          "base_uri": "https://localhost:8080/",
          "height": 642
        },
        "id": "jzbk_zhkg0hK",
        "outputId": "bce63e23-ca46-409e-a829-07844454ef8f"
      },
      "execution_count": null,
      "outputs": [
        {
          "output_type": "execute_result",
          "data": {
            "text/plain": [
              "         duration  heart_rate_bpm  IMU_hand_temperature  \\\n",
              "1300487      0.01           112.0               31.8125   \n",
              "2564120      0.01            90.0               34.7500   \n",
              "24075        0.01            82.0               31.6875   \n",
              "132801       0.01           132.0               33.6250   \n",
              "178618       0.01           129.0               33.8125   \n",
              "...           ...             ...                   ...   \n",
              "1546015      0.01            92.0               35.3750   \n",
              "2313255      0.01            75.0               33.7500   \n",
              "1300750      0.01           114.0               31.8125   \n",
              "1867181      0.01            90.0               33.7500   \n",
              "2398056      0.01           122.0               33.0625   \n",
              "\n",
              "         IMU_hand_3D-acceleration_scale: ±16g  \\\n",
              "1300487                              -6.75564   \n",
              "2564120                              -6.88802   \n",
              "24075                                 7.21391   \n",
              "132801                              -11.79540   \n",
              "178618                              -12.02170   \n",
              "...                                       ...   \n",
              "1546015                              -6.33041   \n",
              "2313255                             -13.79540   \n",
              "1300750                             -11.65710   \n",
              "1867181                              -4.99214   \n",
              "2398056                              -1.98287   \n",
              "\n",
              "         IMU_hand_3D-acceleration_scale: ±16g  \\\n",
              "1300487                               2.97406   \n",
              "2564120                               6.13433   \n",
              "24075                                 1.30283   \n",
              "132801                                5.85106   \n",
              "178618                                4.27207   \n",
              "...                                       ...   \n",
              "1546015                               4.74590   \n",
              "2313255                               1.08556   \n",
              "1300750                               5.34578   \n",
              "1867181                               2.72261   \n",
              "2398056                               8.78224   \n",
              "\n",
              "         IMU_hand_3D-acceleration_scale: ±16g  \\\n",
              "1300487                              -1.49517   \n",
              "2564120                               3.84193   \n",
              "24075                                 6.30174   \n",
              "132801                                1.80653   \n",
              "178618                                3.23250   \n",
              "...                                       ...   \n",
              "1546015                               6.04875   \n",
              "2313255                               1.75416   \n",
              "1300750                               4.81232   \n",
              "1867181                               5.84470   \n",
              "2398056                              -1.21234   \n",
              "\n",
              "         IMU_hand_3D-acceleration_scale: ±16g  \\\n",
              "1300487                              -6.75564   \n",
              "2564120                              -6.88802   \n",
              "24075                                 7.21391   \n",
              "132801                              -11.79540   \n",
              "178618                              -12.02170   \n",
              "...                                       ...   \n",
              "1546015                              -6.33041   \n",
              "2313255                             -13.79540   \n",
              "1300750                             -11.65710   \n",
              "1867181                              -4.99214   \n",
              "2398056                              -1.98287   \n",
              "\n",
              "         IMU_hand_3D-acceleration_scale: ±16g  \\\n",
              "1300487                               2.97406   \n",
              "2564120                               6.13433   \n",
              "24075                                 1.30283   \n",
              "132801                                5.85106   \n",
              "178618                                4.27207   \n",
              "...                                       ...   \n",
              "1546015                               4.74590   \n",
              "2313255                               1.08556   \n",
              "1300750                               5.34578   \n",
              "1867181                               2.72261   \n",
              "2398056                               8.78224   \n",
              "\n",
              "         IMU_hand_3D-acceleration_scale: ±16g  \\\n",
              "1300487                              -1.49517   \n",
              "2564120                               3.84193   \n",
              "24075                                 6.30174   \n",
              "132801                                1.80653   \n",
              "178618                                3.23250   \n",
              "...                                       ...   \n",
              "1546015                               6.04875   \n",
              "2313255                               1.75416   \n",
              "1300750                               4.81232   \n",
              "1867181                               5.84470   \n",
              "2398056                              -1.21234   \n",
              "\n",
              "         IMU_hand_3D-acceleration_scale: ±16g  ...  IMU_ankle_orientation  \\\n",
              "1300487                              -6.75564  ...               0.660148   \n",
              "2564120                              -6.88802  ...               0.033217   \n",
              "24075                                 7.21391  ...               0.000000   \n",
              "132801                              -11.79540  ...               0.000000   \n",
              "178618                              -12.02170  ...               0.000000   \n",
              "...                                       ...  ...                    ...   \n",
              "1546015                              -6.33041  ...               0.457104   \n",
              "2313255                             -13.79540  ...              -0.614643   \n",
              "1300750                             -11.65710  ...               0.481982   \n",
              "1867181                              -4.99214  ...               0.616373   \n",
              "2398056                              -1.98287  ...               0.375407   \n",
              "\n",
              "         IMU_ankle_orientation  IMU_ankle_orientation  IMU_ankle_orientation  \\\n",
              "1300487               0.088774               0.628959               0.400917   \n",
              "2564120               0.633118               0.051503               0.771626   \n",
              "24075                 1.000000               0.000000               0.000000   \n",
              "132801                1.000000               0.000000               0.000000   \n",
              "178618                1.000000               0.000000               0.000000   \n",
              "...                        ...                    ...                    ...   \n",
              "1546015               0.348106               0.561475               0.595503   \n",
              "2313255               0.212241              -0.748676              -0.129043   \n",
              "1300750               0.376919               0.692996               0.381290   \n",
              "1867181               0.177018               0.743926               0.187943   \n",
              "2398056               0.528955               0.329020               0.686311   \n",
              "\n",
              "         IMU_ankle_orientation  IMU_ankle_orientation  IMU_ankle_orientation  \\\n",
              "1300487               0.660148               0.088774               0.628959   \n",
              "2564120               0.033217               0.633118               0.051503   \n",
              "24075                 0.000000               1.000000               0.000000   \n",
              "132801                0.000000               1.000000               0.000000   \n",
              "178618                0.000000               1.000000               0.000000   \n",
              "...                        ...                    ...                    ...   \n",
              "1546015               0.457104               0.348106               0.561475   \n",
              "2313255              -0.614643               0.212241              -0.748676   \n",
              "1300750               0.481982               0.376919               0.692996   \n",
              "1867181               0.616373               0.177018               0.743926   \n",
              "2398056               0.375407               0.528955               0.329020   \n",
              "\n",
              "         IMU_ankle_orientation  IMU_ankle_orientation  aggregate  \n",
              "1300487               0.400917               0.660148       1.12  \n",
              "2564120               0.771626               0.033217       0.90  \n",
              "24075                 0.000000               0.000000       0.82  \n",
              "132801                0.000000               0.000000       1.32  \n",
              "178618                0.000000               0.000000       1.29  \n",
              "...                        ...                    ...        ...  \n",
              "1546015               0.595503               0.457104       0.92  \n",
              "2313255              -0.129043              -0.614643       0.75  \n",
              "1300750               0.381290               0.481982       1.14  \n",
              "1867181               0.187943               0.616373       0.90  \n",
              "2398056               0.686311               0.375407       1.22  \n",
              "\n",
              "[122848 rows x 148 columns]"
            ],
            "text/html": [
              "\n",
              "  <div id=\"df-fd8f16dc-e356-4e3c-96ea-52be9e6ecbe5\">\n",
              "    <div class=\"colab-df-container\">\n",
              "      <div>\n",
              "<style scoped>\n",
              "    .dataframe tbody tr th:only-of-type {\n",
              "        vertical-align: middle;\n",
              "    }\n",
              "\n",
              "    .dataframe tbody tr th {\n",
              "        vertical-align: top;\n",
              "    }\n",
              "\n",
              "    .dataframe thead th {\n",
              "        text-align: right;\n",
              "    }\n",
              "</style>\n",
              "<table border=\"1\" class=\"dataframe\">\n",
              "  <thead>\n",
              "    <tr style=\"text-align: right;\">\n",
              "      <th></th>\n",
              "      <th>duration</th>\n",
              "      <th>heart_rate_bpm</th>\n",
              "      <th>IMU_hand_temperature</th>\n",
              "      <th>IMU_hand_3D-acceleration_scale: ±16g</th>\n",
              "      <th>IMU_hand_3D-acceleration_scale: ±16g</th>\n",
              "      <th>IMU_hand_3D-acceleration_scale: ±16g</th>\n",
              "      <th>IMU_hand_3D-acceleration_scale: ±16g</th>\n",
              "      <th>IMU_hand_3D-acceleration_scale: ±16g</th>\n",
              "      <th>IMU_hand_3D-acceleration_scale: ±16g</th>\n",
              "      <th>IMU_hand_3D-acceleration_scale: ±16g</th>\n",
              "      <th>...</th>\n",
              "      <th>IMU_ankle_orientation</th>\n",
              "      <th>IMU_ankle_orientation</th>\n",
              "      <th>IMU_ankle_orientation</th>\n",
              "      <th>IMU_ankle_orientation</th>\n",
              "      <th>IMU_ankle_orientation</th>\n",
              "      <th>IMU_ankle_orientation</th>\n",
              "      <th>IMU_ankle_orientation</th>\n",
              "      <th>IMU_ankle_orientation</th>\n",
              "      <th>IMU_ankle_orientation</th>\n",
              "      <th>aggregate</th>\n",
              "    </tr>\n",
              "  </thead>\n",
              "  <tbody>\n",
              "    <tr>\n",
              "      <th>1300487</th>\n",
              "      <td>0.01</td>\n",
              "      <td>112.0</td>\n",
              "      <td>31.8125</td>\n",
              "      <td>-6.75564</td>\n",
              "      <td>2.97406</td>\n",
              "      <td>-1.49517</td>\n",
              "      <td>-6.75564</td>\n",
              "      <td>2.97406</td>\n",
              "      <td>-1.49517</td>\n",
              "      <td>-6.75564</td>\n",
              "      <td>...</td>\n",
              "      <td>0.660148</td>\n",
              "      <td>0.088774</td>\n",
              "      <td>0.628959</td>\n",
              "      <td>0.400917</td>\n",
              "      <td>0.660148</td>\n",
              "      <td>0.088774</td>\n",
              "      <td>0.628959</td>\n",
              "      <td>0.400917</td>\n",
              "      <td>0.660148</td>\n",
              "      <td>1.12</td>\n",
              "    </tr>\n",
              "    <tr>\n",
              "      <th>2564120</th>\n",
              "      <td>0.01</td>\n",
              "      <td>90.0</td>\n",
              "      <td>34.7500</td>\n",
              "      <td>-6.88802</td>\n",
              "      <td>6.13433</td>\n",
              "      <td>3.84193</td>\n",
              "      <td>-6.88802</td>\n",
              "      <td>6.13433</td>\n",
              "      <td>3.84193</td>\n",
              "      <td>-6.88802</td>\n",
              "      <td>...</td>\n",
              "      <td>0.033217</td>\n",
              "      <td>0.633118</td>\n",
              "      <td>0.051503</td>\n",
              "      <td>0.771626</td>\n",
              "      <td>0.033217</td>\n",
              "      <td>0.633118</td>\n",
              "      <td>0.051503</td>\n",
              "      <td>0.771626</td>\n",
              "      <td>0.033217</td>\n",
              "      <td>0.90</td>\n",
              "    </tr>\n",
              "    <tr>\n",
              "      <th>24075</th>\n",
              "      <td>0.01</td>\n",
              "      <td>82.0</td>\n",
              "      <td>31.6875</td>\n",
              "      <td>7.21391</td>\n",
              "      <td>1.30283</td>\n",
              "      <td>6.30174</td>\n",
              "      <td>7.21391</td>\n",
              "      <td>1.30283</td>\n",
              "      <td>6.30174</td>\n",
              "      <td>7.21391</td>\n",
              "      <td>...</td>\n",
              "      <td>0.000000</td>\n",
              "      <td>1.000000</td>\n",
              "      <td>0.000000</td>\n",
              "      <td>0.000000</td>\n",
              "      <td>0.000000</td>\n",
              "      <td>1.000000</td>\n",
              "      <td>0.000000</td>\n",
              "      <td>0.000000</td>\n",
              "      <td>0.000000</td>\n",
              "      <td>0.82</td>\n",
              "    </tr>\n",
              "    <tr>\n",
              "      <th>132801</th>\n",
              "      <td>0.01</td>\n",
              "      <td>132.0</td>\n",
              "      <td>33.6250</td>\n",
              "      <td>-11.79540</td>\n",
              "      <td>5.85106</td>\n",
              "      <td>1.80653</td>\n",
              "      <td>-11.79540</td>\n",
              "      <td>5.85106</td>\n",
              "      <td>1.80653</td>\n",
              "      <td>-11.79540</td>\n",
              "      <td>...</td>\n",
              "      <td>0.000000</td>\n",
              "      <td>1.000000</td>\n",
              "      <td>0.000000</td>\n",
              "      <td>0.000000</td>\n",
              "      <td>0.000000</td>\n",
              "      <td>1.000000</td>\n",
              "      <td>0.000000</td>\n",
              "      <td>0.000000</td>\n",
              "      <td>0.000000</td>\n",
              "      <td>1.32</td>\n",
              "    </tr>\n",
              "    <tr>\n",
              "      <th>178618</th>\n",
              "      <td>0.01</td>\n",
              "      <td>129.0</td>\n",
              "      <td>33.8125</td>\n",
              "      <td>-12.02170</td>\n",
              "      <td>4.27207</td>\n",
              "      <td>3.23250</td>\n",
              "      <td>-12.02170</td>\n",
              "      <td>4.27207</td>\n",
              "      <td>3.23250</td>\n",
              "      <td>-12.02170</td>\n",
              "      <td>...</td>\n",
              "      <td>0.000000</td>\n",
              "      <td>1.000000</td>\n",
              "      <td>0.000000</td>\n",
              "      <td>0.000000</td>\n",
              "      <td>0.000000</td>\n",
              "      <td>1.000000</td>\n",
              "      <td>0.000000</td>\n",
              "      <td>0.000000</td>\n",
              "      <td>0.000000</td>\n",
              "      <td>1.29</td>\n",
              "    </tr>\n",
              "    <tr>\n",
              "      <th>...</th>\n",
              "      <td>...</td>\n",
              "      <td>...</td>\n",
              "      <td>...</td>\n",
              "      <td>...</td>\n",
              "      <td>...</td>\n",
              "      <td>...</td>\n",
              "      <td>...</td>\n",
              "      <td>...</td>\n",
              "      <td>...</td>\n",
              "      <td>...</td>\n",
              "      <td>...</td>\n",
              "      <td>...</td>\n",
              "      <td>...</td>\n",
              "      <td>...</td>\n",
              "      <td>...</td>\n",
              "      <td>...</td>\n",
              "      <td>...</td>\n",
              "      <td>...</td>\n",
              "      <td>...</td>\n",
              "      <td>...</td>\n",
              "      <td>...</td>\n",
              "    </tr>\n",
              "    <tr>\n",
              "      <th>1546015</th>\n",
              "      <td>0.01</td>\n",
              "      <td>92.0</td>\n",
              "      <td>35.3750</td>\n",
              "      <td>-6.33041</td>\n",
              "      <td>4.74590</td>\n",
              "      <td>6.04875</td>\n",
              "      <td>-6.33041</td>\n",
              "      <td>4.74590</td>\n",
              "      <td>6.04875</td>\n",
              "      <td>-6.33041</td>\n",
              "      <td>...</td>\n",
              "      <td>0.457104</td>\n",
              "      <td>0.348106</td>\n",
              "      <td>0.561475</td>\n",
              "      <td>0.595503</td>\n",
              "      <td>0.457104</td>\n",
              "      <td>0.348106</td>\n",
              "      <td>0.561475</td>\n",
              "      <td>0.595503</td>\n",
              "      <td>0.457104</td>\n",
              "      <td>0.92</td>\n",
              "    </tr>\n",
              "    <tr>\n",
              "      <th>2313255</th>\n",
              "      <td>0.01</td>\n",
              "      <td>75.0</td>\n",
              "      <td>33.7500</td>\n",
              "      <td>-13.79540</td>\n",
              "      <td>1.08556</td>\n",
              "      <td>1.75416</td>\n",
              "      <td>-13.79540</td>\n",
              "      <td>1.08556</td>\n",
              "      <td>1.75416</td>\n",
              "      <td>-13.79540</td>\n",
              "      <td>...</td>\n",
              "      <td>-0.614643</td>\n",
              "      <td>0.212241</td>\n",
              "      <td>-0.748676</td>\n",
              "      <td>-0.129043</td>\n",
              "      <td>-0.614643</td>\n",
              "      <td>0.212241</td>\n",
              "      <td>-0.748676</td>\n",
              "      <td>-0.129043</td>\n",
              "      <td>-0.614643</td>\n",
              "      <td>0.75</td>\n",
              "    </tr>\n",
              "    <tr>\n",
              "      <th>1300750</th>\n",
              "      <td>0.01</td>\n",
              "      <td>114.0</td>\n",
              "      <td>31.8125</td>\n",
              "      <td>-11.65710</td>\n",
              "      <td>5.34578</td>\n",
              "      <td>4.81232</td>\n",
              "      <td>-11.65710</td>\n",
              "      <td>5.34578</td>\n",
              "      <td>4.81232</td>\n",
              "      <td>-11.65710</td>\n",
              "      <td>...</td>\n",
              "      <td>0.481982</td>\n",
              "      <td>0.376919</td>\n",
              "      <td>0.692996</td>\n",
              "      <td>0.381290</td>\n",
              "      <td>0.481982</td>\n",
              "      <td>0.376919</td>\n",
              "      <td>0.692996</td>\n",
              "      <td>0.381290</td>\n",
              "      <td>0.481982</td>\n",
              "      <td>1.14</td>\n",
              "    </tr>\n",
              "    <tr>\n",
              "      <th>1867181</th>\n",
              "      <td>0.01</td>\n",
              "      <td>90.0</td>\n",
              "      <td>33.7500</td>\n",
              "      <td>-4.99214</td>\n",
              "      <td>2.72261</td>\n",
              "      <td>5.84470</td>\n",
              "      <td>-4.99214</td>\n",
              "      <td>2.72261</td>\n",
              "      <td>5.84470</td>\n",
              "      <td>-4.99214</td>\n",
              "      <td>...</td>\n",
              "      <td>0.616373</td>\n",
              "      <td>0.177018</td>\n",
              "      <td>0.743926</td>\n",
              "      <td>0.187943</td>\n",
              "      <td>0.616373</td>\n",
              "      <td>0.177018</td>\n",
              "      <td>0.743926</td>\n",
              "      <td>0.187943</td>\n",
              "      <td>0.616373</td>\n",
              "      <td>0.90</td>\n",
              "    </tr>\n",
              "    <tr>\n",
              "      <th>2398056</th>\n",
              "      <td>0.01</td>\n",
              "      <td>122.0</td>\n",
              "      <td>33.0625</td>\n",
              "      <td>-1.98287</td>\n",
              "      <td>8.78224</td>\n",
              "      <td>-1.21234</td>\n",
              "      <td>-1.98287</td>\n",
              "      <td>8.78224</td>\n",
              "      <td>-1.21234</td>\n",
              "      <td>-1.98287</td>\n",
              "      <td>...</td>\n",
              "      <td>0.375407</td>\n",
              "      <td>0.528955</td>\n",
              "      <td>0.329020</td>\n",
              "      <td>0.686311</td>\n",
              "      <td>0.375407</td>\n",
              "      <td>0.528955</td>\n",
              "      <td>0.329020</td>\n",
              "      <td>0.686311</td>\n",
              "      <td>0.375407</td>\n",
              "      <td>1.22</td>\n",
              "    </tr>\n",
              "  </tbody>\n",
              "</table>\n",
              "<p>122848 rows × 148 columns</p>\n",
              "</div>\n",
              "      <button class=\"colab-df-convert\" onclick=\"convertToInteractive('df-fd8f16dc-e356-4e3c-96ea-52be9e6ecbe5')\"\n",
              "              title=\"Convert this dataframe to an interactive table.\"\n",
              "              style=\"display:none;\">\n",
              "        \n",
              "  <svg xmlns=\"http://www.w3.org/2000/svg\" height=\"24px\"viewBox=\"0 0 24 24\"\n",
              "       width=\"24px\">\n",
              "    <path d=\"M0 0h24v24H0V0z\" fill=\"none\"/>\n",
              "    <path d=\"M18.56 5.44l.94 2.06.94-2.06 2.06-.94-2.06-.94-.94-2.06-.94 2.06-2.06.94zm-11 1L8.5 8.5l.94-2.06 2.06-.94-2.06-.94L8.5 2.5l-.94 2.06-2.06.94zm10 10l.94 2.06.94-2.06 2.06-.94-2.06-.94-.94-2.06-.94 2.06-2.06.94z\"/><path d=\"M17.41 7.96l-1.37-1.37c-.4-.4-.92-.59-1.43-.59-.52 0-1.04.2-1.43.59L10.3 9.45l-7.72 7.72c-.78.78-.78 2.05 0 2.83L4 21.41c.39.39.9.59 1.41.59.51 0 1.02-.2 1.41-.59l7.78-7.78 2.81-2.81c.8-.78.8-2.07 0-2.86zM5.41 20L4 18.59l7.72-7.72 1.47 1.35L5.41 20z\"/>\n",
              "  </svg>\n",
              "      </button>\n",
              "      \n",
              "  <style>\n",
              "    .colab-df-container {\n",
              "      display:flex;\n",
              "      flex-wrap:wrap;\n",
              "      gap: 12px;\n",
              "    }\n",
              "\n",
              "    .colab-df-convert {\n",
              "      background-color: #E8F0FE;\n",
              "      border: none;\n",
              "      border-radius: 50%;\n",
              "      cursor: pointer;\n",
              "      display: none;\n",
              "      fill: #1967D2;\n",
              "      height: 32px;\n",
              "      padding: 0 0 0 0;\n",
              "      width: 32px;\n",
              "    }\n",
              "\n",
              "    .colab-df-convert:hover {\n",
              "      background-color: #E2EBFA;\n",
              "      box-shadow: 0px 1px 2px rgba(60, 64, 67, 0.3), 0px 1px 3px 1px rgba(60, 64, 67, 0.15);\n",
              "      fill: #174EA6;\n",
              "    }\n",
              "\n",
              "    [theme=dark] .colab-df-convert {\n",
              "      background-color: #3B4455;\n",
              "      fill: #D2E3FC;\n",
              "    }\n",
              "\n",
              "    [theme=dark] .colab-df-convert:hover {\n",
              "      background-color: #434B5C;\n",
              "      box-shadow: 0px 1px 3px 1px rgba(0, 0, 0, 0.15);\n",
              "      filter: drop-shadow(0px 1px 2px rgba(0, 0, 0, 0.3));\n",
              "      fill: #FFFFFF;\n",
              "    }\n",
              "  </style>\n",
              "\n",
              "      <script>\n",
              "        const buttonEl =\n",
              "          document.querySelector('#df-fd8f16dc-e356-4e3c-96ea-52be9e6ecbe5 button.colab-df-convert');\n",
              "        buttonEl.style.display =\n",
              "          google.colab.kernel.accessAllowed ? 'block' : 'none';\n",
              "\n",
              "        async function convertToInteractive(key) {\n",
              "          const element = document.querySelector('#df-fd8f16dc-e356-4e3c-96ea-52be9e6ecbe5');\n",
              "          const dataTable =\n",
              "            await google.colab.kernel.invokeFunction('convertToInteractive',\n",
              "                                                     [key], {});\n",
              "          if (!dataTable) return;\n",
              "\n",
              "          const docLinkHtml = 'Like what you see? Visit the ' +\n",
              "            '<a target=\"_blank\" href=https://colab.research.google.com/notebooks/data_table.ipynb>data table notebook</a>'\n",
              "            + ' to learn more about interactive tables.';\n",
              "          element.innerHTML = '';\n",
              "          dataTable['output_type'] = 'display_data';\n",
              "          await google.colab.output.renderOutput(dataTable, element);\n",
              "          const docLink = document.createElement('div');\n",
              "          docLink.innerHTML = docLinkHtml;\n",
              "          element.appendChild(docLink);\n",
              "        }\n",
              "      </script>\n",
              "    </div>\n",
              "  </div>\n",
              "  "
            ]
          },
          "metadata": {},
          "execution_count": 62
        }
      ]
    },
    {
      "cell_type": "code",
      "source": [
        "test_set.iloc[:,2:]"
      ],
      "metadata": {
        "colab": {
          "base_uri": "https://localhost:8080/",
          "height": 642
        },
        "id": "mRg52B-agdtg",
        "outputId": "eed485af-b43c-4cc6-b29b-dfe904e43ec2"
      },
      "execution_count": null,
      "outputs": [
        {
          "output_type": "execute_result",
          "data": {
            "text/plain": [
              "         duration  heart_rate_bpm  IMU_hand_temperature  \\\n",
              "2655427      0.01           171.0               33.9375   \n",
              "1585434      0.01           107.0               34.8750   \n",
              "911743       0.01            81.0               32.4375   \n",
              "1062534      0.01           118.0               29.1250   \n",
              "2566800      0.01            90.0               34.7500   \n",
              "...           ...             ...                   ...   \n",
              "122903       0.01           122.0               33.5625   \n",
              "996548       0.01           128.0               32.2500   \n",
              "2199713      0.01            77.0               32.7500   \n",
              "51248        0.01            93.0               32.6250   \n",
              "852748       0.01            71.0               31.3750   \n",
              "\n",
              "         IMU_hand_3D-acceleration_scale: ±16g  \\\n",
              "2655427                             -16.68420   \n",
              "1585434                              -7.75207   \n",
              "911743                               -8.91451   \n",
              "1062534                              -8.07007   \n",
              "2566800                              -6.36465   \n",
              "...                                       ...   \n",
              "122903                              -15.50810   \n",
              "996548                               -4.19644   \n",
              "2199713                              -9.03456   \n",
              "51248                                -7.80135   \n",
              "852748                                6.88795   \n",
              "\n",
              "         IMU_hand_3D-acceleration_scale: ±16g  \\\n",
              "2655427                             -0.753424   \n",
              "1585434                              4.778920   \n",
              "911743                               2.536220   \n",
              "1062534                              4.199460   \n",
              "2566800                             -2.476760   \n",
              "...                                       ...   \n",
              "122903                               4.551780   \n",
              "996548                               6.389410   \n",
              "2199713                              2.535420   \n",
              "51248                                4.094630   \n",
              "852748                               2.748150   \n",
              "\n",
              "         IMU_hand_3D-acceleration_scale: ±16g  \\\n",
              "2655427                             -2.747450   \n",
              "1585434                              4.256930   \n",
              "911743                               2.784560   \n",
              "1062534                              2.830080   \n",
              "2566800                              8.728230   \n",
              "...                                       ...   \n",
              "122903                               1.755300   \n",
              "996548                               0.802401   \n",
              "2199713                              2.590330   \n",
              "51248                                4.066060   \n",
              "852748                               6.407440   \n",
              "\n",
              "         IMU_hand_3D-acceleration_scale: ±16g  \\\n",
              "2655427                             -16.68420   \n",
              "1585434                              -7.75207   \n",
              "911743                               -8.91451   \n",
              "1062534                              -8.07007   \n",
              "2566800                              -6.36465   \n",
              "...                                       ...   \n",
              "122903                              -15.50810   \n",
              "996548                               -4.19644   \n",
              "2199713                              -9.03456   \n",
              "51248                                -7.80135   \n",
              "852748                                6.88795   \n",
              "\n",
              "         IMU_hand_3D-acceleration_scale: ±16g  \\\n",
              "2655427                             -0.753424   \n",
              "1585434                              4.778920   \n",
              "911743                               2.536220   \n",
              "1062534                              4.199460   \n",
              "2566800                             -2.476760   \n",
              "...                                       ...   \n",
              "122903                               4.551780   \n",
              "996548                               6.389410   \n",
              "2199713                              2.535420   \n",
              "51248                                4.094630   \n",
              "852748                               2.748150   \n",
              "\n",
              "         IMU_hand_3D-acceleration_scale: ±16g  \\\n",
              "2655427                             -2.747450   \n",
              "1585434                              4.256930   \n",
              "911743                               2.784560   \n",
              "1062534                              2.830080   \n",
              "2566800                              8.728230   \n",
              "...                                       ...   \n",
              "122903                               1.755300   \n",
              "996548                               0.802401   \n",
              "2199713                              2.590330   \n",
              "51248                                4.066060   \n",
              "852748                               6.407440   \n",
              "\n",
              "         IMU_hand_3D-acceleration_scale: ±16g  ...  IMU_ankle_orientation  \\\n",
              "2655427                             -16.68420  ...              -0.517211   \n",
              "1585434                              -7.75207  ...              -0.160033   \n",
              "911743                               -8.91451  ...              -0.675997   \n",
              "1062534                              -8.07007  ...              -0.304932   \n",
              "2566800                              -6.36465  ...              -0.112068   \n",
              "...                                       ...  ...                    ...   \n",
              "122903                              -15.50810  ...               0.000000   \n",
              "996548                               -4.19644  ...              -0.512157   \n",
              "2199713                              -9.03456  ...              -0.567600   \n",
              "51248                                -7.80135  ...               0.000000   \n",
              "852748                                6.88795  ...              -0.728961   \n",
              "\n",
              "         IMU_ankle_orientation  IMU_ankle_orientation  IMU_ankle_orientation  \\\n",
              "2655427               0.463389              -0.542067               0.473209   \n",
              "1585434               0.660635              -0.030979               0.732797   \n",
              "911743                0.040186              -0.733361               0.059962   \n",
              "1062534               0.547261              -0.661132               0.412828   \n",
              "2566800               0.606370              -0.163681               0.770042   \n",
              "...                        ...                    ...                    ...   \n",
              "122903                1.000000               0.000000               0.000000   \n",
              "996548                0.175540              -0.802253              -0.251536   \n",
              "2199713               0.250776              -0.690570               0.371559   \n",
              "51248                 1.000000               0.000000               0.000000   \n",
              "852748                0.166259               0.111417               0.654645   \n",
              "\n",
              "         IMU_ankle_orientation  IMU_ankle_orientation  IMU_ankle_orientation  \\\n",
              "2655427              -0.517211               0.463389              -0.542067   \n",
              "1585434              -0.160033               0.660635              -0.030979   \n",
              "911743               -0.675997               0.040186              -0.733361   \n",
              "1062534              -0.304932               0.547261              -0.661132   \n",
              "2566800              -0.112068               0.606370              -0.163681   \n",
              "...                        ...                    ...                    ...   \n",
              "122903                0.000000               1.000000               0.000000   \n",
              "996548               -0.512157               0.175540              -0.802253   \n",
              "2199713              -0.567600               0.250776              -0.690570   \n",
              "51248                 0.000000               1.000000               0.000000   \n",
              "852748               -0.728961               0.166259               0.111417   \n",
              "\n",
              "         IMU_ankle_orientation  IMU_ankle_orientation  aggregate  \n",
              "2655427               0.473209              -0.517211       1.71  \n",
              "1585434               0.732797              -0.160033       1.07  \n",
              "911743                0.059962              -0.675997       0.81  \n",
              "1062534               0.412828              -0.304932       1.18  \n",
              "2566800               0.770042              -0.112068       0.90  \n",
              "...                        ...                    ...        ...  \n",
              "122903                0.000000               0.000000       1.22  \n",
              "996548               -0.251536              -0.512157       1.28  \n",
              "2199713               0.371559              -0.567600       0.77  \n",
              "51248                 0.000000               0.000000       0.93  \n",
              "852748                0.654645              -0.728961       0.71  \n",
              "\n",
              "[52650 rows x 148 columns]"
            ],
            "text/html": [
              "\n",
              "  <div id=\"df-daa14f3c-e2c6-4b29-8dda-961795fc0348\">\n",
              "    <div class=\"colab-df-container\">\n",
              "      <div>\n",
              "<style scoped>\n",
              "    .dataframe tbody tr th:only-of-type {\n",
              "        vertical-align: middle;\n",
              "    }\n",
              "\n",
              "    .dataframe tbody tr th {\n",
              "        vertical-align: top;\n",
              "    }\n",
              "\n",
              "    .dataframe thead th {\n",
              "        text-align: right;\n",
              "    }\n",
              "</style>\n",
              "<table border=\"1\" class=\"dataframe\">\n",
              "  <thead>\n",
              "    <tr style=\"text-align: right;\">\n",
              "      <th></th>\n",
              "      <th>duration</th>\n",
              "      <th>heart_rate_bpm</th>\n",
              "      <th>IMU_hand_temperature</th>\n",
              "      <th>IMU_hand_3D-acceleration_scale: ±16g</th>\n",
              "      <th>IMU_hand_3D-acceleration_scale: ±16g</th>\n",
              "      <th>IMU_hand_3D-acceleration_scale: ±16g</th>\n",
              "      <th>IMU_hand_3D-acceleration_scale: ±16g</th>\n",
              "      <th>IMU_hand_3D-acceleration_scale: ±16g</th>\n",
              "      <th>IMU_hand_3D-acceleration_scale: ±16g</th>\n",
              "      <th>IMU_hand_3D-acceleration_scale: ±16g</th>\n",
              "      <th>...</th>\n",
              "      <th>IMU_ankle_orientation</th>\n",
              "      <th>IMU_ankle_orientation</th>\n",
              "      <th>IMU_ankle_orientation</th>\n",
              "      <th>IMU_ankle_orientation</th>\n",
              "      <th>IMU_ankle_orientation</th>\n",
              "      <th>IMU_ankle_orientation</th>\n",
              "      <th>IMU_ankle_orientation</th>\n",
              "      <th>IMU_ankle_orientation</th>\n",
              "      <th>IMU_ankle_orientation</th>\n",
              "      <th>aggregate</th>\n",
              "    </tr>\n",
              "  </thead>\n",
              "  <tbody>\n",
              "    <tr>\n",
              "      <th>2655427</th>\n",
              "      <td>0.01</td>\n",
              "      <td>171.0</td>\n",
              "      <td>33.9375</td>\n",
              "      <td>-16.68420</td>\n",
              "      <td>-0.753424</td>\n",
              "      <td>-2.747450</td>\n",
              "      <td>-16.68420</td>\n",
              "      <td>-0.753424</td>\n",
              "      <td>-2.747450</td>\n",
              "      <td>-16.68420</td>\n",
              "      <td>...</td>\n",
              "      <td>-0.517211</td>\n",
              "      <td>0.463389</td>\n",
              "      <td>-0.542067</td>\n",
              "      <td>0.473209</td>\n",
              "      <td>-0.517211</td>\n",
              "      <td>0.463389</td>\n",
              "      <td>-0.542067</td>\n",
              "      <td>0.473209</td>\n",
              "      <td>-0.517211</td>\n",
              "      <td>1.71</td>\n",
              "    </tr>\n",
              "    <tr>\n",
              "      <th>1585434</th>\n",
              "      <td>0.01</td>\n",
              "      <td>107.0</td>\n",
              "      <td>34.8750</td>\n",
              "      <td>-7.75207</td>\n",
              "      <td>4.778920</td>\n",
              "      <td>4.256930</td>\n",
              "      <td>-7.75207</td>\n",
              "      <td>4.778920</td>\n",
              "      <td>4.256930</td>\n",
              "      <td>-7.75207</td>\n",
              "      <td>...</td>\n",
              "      <td>-0.160033</td>\n",
              "      <td>0.660635</td>\n",
              "      <td>-0.030979</td>\n",
              "      <td>0.732797</td>\n",
              "      <td>-0.160033</td>\n",
              "      <td>0.660635</td>\n",
              "      <td>-0.030979</td>\n",
              "      <td>0.732797</td>\n",
              "      <td>-0.160033</td>\n",
              "      <td>1.07</td>\n",
              "    </tr>\n",
              "    <tr>\n",
              "      <th>911743</th>\n",
              "      <td>0.01</td>\n",
              "      <td>81.0</td>\n",
              "      <td>32.4375</td>\n",
              "      <td>-8.91451</td>\n",
              "      <td>2.536220</td>\n",
              "      <td>2.784560</td>\n",
              "      <td>-8.91451</td>\n",
              "      <td>2.536220</td>\n",
              "      <td>2.784560</td>\n",
              "      <td>-8.91451</td>\n",
              "      <td>...</td>\n",
              "      <td>-0.675997</td>\n",
              "      <td>0.040186</td>\n",
              "      <td>-0.733361</td>\n",
              "      <td>0.059962</td>\n",
              "      <td>-0.675997</td>\n",
              "      <td>0.040186</td>\n",
              "      <td>-0.733361</td>\n",
              "      <td>0.059962</td>\n",
              "      <td>-0.675997</td>\n",
              "      <td>0.81</td>\n",
              "    </tr>\n",
              "    <tr>\n",
              "      <th>1062534</th>\n",
              "      <td>0.01</td>\n",
              "      <td>118.0</td>\n",
              "      <td>29.1250</td>\n",
              "      <td>-8.07007</td>\n",
              "      <td>4.199460</td>\n",
              "      <td>2.830080</td>\n",
              "      <td>-8.07007</td>\n",
              "      <td>4.199460</td>\n",
              "      <td>2.830080</td>\n",
              "      <td>-8.07007</td>\n",
              "      <td>...</td>\n",
              "      <td>-0.304932</td>\n",
              "      <td>0.547261</td>\n",
              "      <td>-0.661132</td>\n",
              "      <td>0.412828</td>\n",
              "      <td>-0.304932</td>\n",
              "      <td>0.547261</td>\n",
              "      <td>-0.661132</td>\n",
              "      <td>0.412828</td>\n",
              "      <td>-0.304932</td>\n",
              "      <td>1.18</td>\n",
              "    </tr>\n",
              "    <tr>\n",
              "      <th>2566800</th>\n",
              "      <td>0.01</td>\n",
              "      <td>90.0</td>\n",
              "      <td>34.7500</td>\n",
              "      <td>-6.36465</td>\n",
              "      <td>-2.476760</td>\n",
              "      <td>8.728230</td>\n",
              "      <td>-6.36465</td>\n",
              "      <td>-2.476760</td>\n",
              "      <td>8.728230</td>\n",
              "      <td>-6.36465</td>\n",
              "      <td>...</td>\n",
              "      <td>-0.112068</td>\n",
              "      <td>0.606370</td>\n",
              "      <td>-0.163681</td>\n",
              "      <td>0.770042</td>\n",
              "      <td>-0.112068</td>\n",
              "      <td>0.606370</td>\n",
              "      <td>-0.163681</td>\n",
              "      <td>0.770042</td>\n",
              "      <td>-0.112068</td>\n",
              "      <td>0.90</td>\n",
              "    </tr>\n",
              "    <tr>\n",
              "      <th>...</th>\n",
              "      <td>...</td>\n",
              "      <td>...</td>\n",
              "      <td>...</td>\n",
              "      <td>...</td>\n",
              "      <td>...</td>\n",
              "      <td>...</td>\n",
              "      <td>...</td>\n",
              "      <td>...</td>\n",
              "      <td>...</td>\n",
              "      <td>...</td>\n",
              "      <td>...</td>\n",
              "      <td>...</td>\n",
              "      <td>...</td>\n",
              "      <td>...</td>\n",
              "      <td>...</td>\n",
              "      <td>...</td>\n",
              "      <td>...</td>\n",
              "      <td>...</td>\n",
              "      <td>...</td>\n",
              "      <td>...</td>\n",
              "      <td>...</td>\n",
              "    </tr>\n",
              "    <tr>\n",
              "      <th>122903</th>\n",
              "      <td>0.01</td>\n",
              "      <td>122.0</td>\n",
              "      <td>33.5625</td>\n",
              "      <td>-15.50810</td>\n",
              "      <td>4.551780</td>\n",
              "      <td>1.755300</td>\n",
              "      <td>-15.50810</td>\n",
              "      <td>4.551780</td>\n",
              "      <td>1.755300</td>\n",
              "      <td>-15.50810</td>\n",
              "      <td>...</td>\n",
              "      <td>0.000000</td>\n",
              "      <td>1.000000</td>\n",
              "      <td>0.000000</td>\n",
              "      <td>0.000000</td>\n",
              "      <td>0.000000</td>\n",
              "      <td>1.000000</td>\n",
              "      <td>0.000000</td>\n",
              "      <td>0.000000</td>\n",
              "      <td>0.000000</td>\n",
              "      <td>1.22</td>\n",
              "    </tr>\n",
              "    <tr>\n",
              "      <th>996548</th>\n",
              "      <td>0.01</td>\n",
              "      <td>128.0</td>\n",
              "      <td>32.2500</td>\n",
              "      <td>-4.19644</td>\n",
              "      <td>6.389410</td>\n",
              "      <td>0.802401</td>\n",
              "      <td>-4.19644</td>\n",
              "      <td>6.389410</td>\n",
              "      <td>0.802401</td>\n",
              "      <td>-4.19644</td>\n",
              "      <td>...</td>\n",
              "      <td>-0.512157</td>\n",
              "      <td>0.175540</td>\n",
              "      <td>-0.802253</td>\n",
              "      <td>-0.251536</td>\n",
              "      <td>-0.512157</td>\n",
              "      <td>0.175540</td>\n",
              "      <td>-0.802253</td>\n",
              "      <td>-0.251536</td>\n",
              "      <td>-0.512157</td>\n",
              "      <td>1.28</td>\n",
              "    </tr>\n",
              "    <tr>\n",
              "      <th>2199713</th>\n",
              "      <td>0.01</td>\n",
              "      <td>77.0</td>\n",
              "      <td>32.7500</td>\n",
              "      <td>-9.03456</td>\n",
              "      <td>2.535420</td>\n",
              "      <td>2.590330</td>\n",
              "      <td>-9.03456</td>\n",
              "      <td>2.535420</td>\n",
              "      <td>2.590330</td>\n",
              "      <td>-9.03456</td>\n",
              "      <td>...</td>\n",
              "      <td>-0.567600</td>\n",
              "      <td>0.250776</td>\n",
              "      <td>-0.690570</td>\n",
              "      <td>0.371559</td>\n",
              "      <td>-0.567600</td>\n",
              "      <td>0.250776</td>\n",
              "      <td>-0.690570</td>\n",
              "      <td>0.371559</td>\n",
              "      <td>-0.567600</td>\n",
              "      <td>0.77</td>\n",
              "    </tr>\n",
              "    <tr>\n",
              "      <th>51248</th>\n",
              "      <td>0.01</td>\n",
              "      <td>93.0</td>\n",
              "      <td>32.6250</td>\n",
              "      <td>-7.80135</td>\n",
              "      <td>4.094630</td>\n",
              "      <td>4.066060</td>\n",
              "      <td>-7.80135</td>\n",
              "      <td>4.094630</td>\n",
              "      <td>4.066060</td>\n",
              "      <td>-7.80135</td>\n",
              "      <td>...</td>\n",
              "      <td>0.000000</td>\n",
              "      <td>1.000000</td>\n",
              "      <td>0.000000</td>\n",
              "      <td>0.000000</td>\n",
              "      <td>0.000000</td>\n",
              "      <td>1.000000</td>\n",
              "      <td>0.000000</td>\n",
              "      <td>0.000000</td>\n",
              "      <td>0.000000</td>\n",
              "      <td>0.93</td>\n",
              "    </tr>\n",
              "    <tr>\n",
              "      <th>852748</th>\n",
              "      <td>0.01</td>\n",
              "      <td>71.0</td>\n",
              "      <td>31.3750</td>\n",
              "      <td>6.88795</td>\n",
              "      <td>2.748150</td>\n",
              "      <td>6.407440</td>\n",
              "      <td>6.88795</td>\n",
              "      <td>2.748150</td>\n",
              "      <td>6.407440</td>\n",
              "      <td>6.88795</td>\n",
              "      <td>...</td>\n",
              "      <td>-0.728961</td>\n",
              "      <td>0.166259</td>\n",
              "      <td>0.111417</td>\n",
              "      <td>0.654645</td>\n",
              "      <td>-0.728961</td>\n",
              "      <td>0.166259</td>\n",
              "      <td>0.111417</td>\n",
              "      <td>0.654645</td>\n",
              "      <td>-0.728961</td>\n",
              "      <td>0.71</td>\n",
              "    </tr>\n",
              "  </tbody>\n",
              "</table>\n",
              "<p>52650 rows × 148 columns</p>\n",
              "</div>\n",
              "      <button class=\"colab-df-convert\" onclick=\"convertToInteractive('df-daa14f3c-e2c6-4b29-8dda-961795fc0348')\"\n",
              "              title=\"Convert this dataframe to an interactive table.\"\n",
              "              style=\"display:none;\">\n",
              "        \n",
              "  <svg xmlns=\"http://www.w3.org/2000/svg\" height=\"24px\"viewBox=\"0 0 24 24\"\n",
              "       width=\"24px\">\n",
              "    <path d=\"M0 0h24v24H0V0z\" fill=\"none\"/>\n",
              "    <path d=\"M18.56 5.44l.94 2.06.94-2.06 2.06-.94-2.06-.94-.94-2.06-.94 2.06-2.06.94zm-11 1L8.5 8.5l.94-2.06 2.06-.94-2.06-.94L8.5 2.5l-.94 2.06-2.06.94zm10 10l.94 2.06.94-2.06 2.06-.94-2.06-.94-.94-2.06-.94 2.06-2.06.94z\"/><path d=\"M17.41 7.96l-1.37-1.37c-.4-.4-.92-.59-1.43-.59-.52 0-1.04.2-1.43.59L10.3 9.45l-7.72 7.72c-.78.78-.78 2.05 0 2.83L4 21.41c.39.39.9.59 1.41.59.51 0 1.02-.2 1.41-.59l7.78-7.78 2.81-2.81c.8-.78.8-2.07 0-2.86zM5.41 20L4 18.59l7.72-7.72 1.47 1.35L5.41 20z\"/>\n",
              "  </svg>\n",
              "      </button>\n",
              "      \n",
              "  <style>\n",
              "    .colab-df-container {\n",
              "      display:flex;\n",
              "      flex-wrap:wrap;\n",
              "      gap: 12px;\n",
              "    }\n",
              "\n",
              "    .colab-df-convert {\n",
              "      background-color: #E8F0FE;\n",
              "      border: none;\n",
              "      border-radius: 50%;\n",
              "      cursor: pointer;\n",
              "      display: none;\n",
              "      fill: #1967D2;\n",
              "      height: 32px;\n",
              "      padding: 0 0 0 0;\n",
              "      width: 32px;\n",
              "    }\n",
              "\n",
              "    .colab-df-convert:hover {\n",
              "      background-color: #E2EBFA;\n",
              "      box-shadow: 0px 1px 2px rgba(60, 64, 67, 0.3), 0px 1px 3px 1px rgba(60, 64, 67, 0.15);\n",
              "      fill: #174EA6;\n",
              "    }\n",
              "\n",
              "    [theme=dark] .colab-df-convert {\n",
              "      background-color: #3B4455;\n",
              "      fill: #D2E3FC;\n",
              "    }\n",
              "\n",
              "    [theme=dark] .colab-df-convert:hover {\n",
              "      background-color: #434B5C;\n",
              "      box-shadow: 0px 1px 3px 1px rgba(0, 0, 0, 0.15);\n",
              "      filter: drop-shadow(0px 1px 2px rgba(0, 0, 0, 0.3));\n",
              "      fill: #FFFFFF;\n",
              "    }\n",
              "  </style>\n",
              "\n",
              "      <script>\n",
              "        const buttonEl =\n",
              "          document.querySelector('#df-daa14f3c-e2c6-4b29-8dda-961795fc0348 button.colab-df-convert');\n",
              "        buttonEl.style.display =\n",
              "          google.colab.kernel.accessAllowed ? 'block' : 'none';\n",
              "\n",
              "        async function convertToInteractive(key) {\n",
              "          const element = document.querySelector('#df-daa14f3c-e2c6-4b29-8dda-961795fc0348');\n",
              "          const dataTable =\n",
              "            await google.colab.kernel.invokeFunction('convertToInteractive',\n",
              "                                                     [key], {});\n",
              "          if (!dataTable) return;\n",
              "\n",
              "          const docLinkHtml = 'Like what you see? Visit the ' +\n",
              "            '<a target=\"_blank\" href=https://colab.research.google.com/notebooks/data_table.ipynb>data table notebook</a>'\n",
              "            + ' to learn more about interactive tables.';\n",
              "          element.innerHTML = '';\n",
              "          dataTable['output_type'] = 'display_data';\n",
              "          await google.colab.output.renderOutput(dataTable, element);\n",
              "          const docLink = document.createElement('div');\n",
              "          docLink.innerHTML = docLinkHtml;\n",
              "          element.appendChild(docLink);\n",
              "        }\n",
              "      </script>\n",
              "    </div>\n",
              "  </div>\n",
              "  "
            ]
          },
          "metadata": {},
          "execution_count": 57
        }
      ]
    },
    {
      "cell_type": "code",
      "source": [
        "xgb_init = XGBClassifier()\n",
        "\n",
        "xgb_init.fit(x,y)"
      ],
      "metadata": {
        "id": "mZNhZGuEU_1y",
        "colab": {
          "base_uri": "https://localhost:8080/"
        },
        "outputId": "9dbd9388-46c7-46f9-c67a-848eaa92ff90"
      },
      "execution_count": 63,
      "outputs": [
        {
          "output_type": "execute_result",
          "data": {
            "text/plain": [
              "XGBClassifier(objective='multi:softprob')"
            ]
          },
          "metadata": {},
          "execution_count": 63
        }
      ]
    },
    {
      "cell_type": "code",
      "source": [
        "y_pred = xgb_init.predict(x_test)"
      ],
      "metadata": {
        "id": "OeNzcuhKZ3wI"
      },
      "execution_count": 64,
      "outputs": []
    },
    {
      "cell_type": "code",
      "source": [
        "accuracy(y_pred, y_test)*100"
      ],
      "metadata": {
        "colab": {
          "base_uri": "https://localhost:8080/"
        },
        "id": "cSEJhyuwf_-t",
        "outputId": "a100df13-90a7-4765-b12e-432beb9c5576"
      },
      "execution_count": 78,
      "outputs": [
        {
          "output_type": "execute_result",
          "data": {
            "text/plain": [
              "97.62203228869896"
            ]
          },
          "metadata": {},
          "execution_count": 78
        }
      ]
    },
    {
      "cell_type": "code",
      "source": [
        "from sklearn.metrics import ConfusionMatrixDisplay\n",
        "\n",
        "ConfusionMatrixDisplay.from_predictions(y_test, y_pred)"
      ],
      "metadata": {
        "colab": {
          "base_uri": "https://localhost:8080/",
          "height": 308
        },
        "id": "b6y_DNeKZu_r",
        "outputId": "4fd04ea2-684d-452d-8d36-d8af653eeacd"
      },
      "execution_count": 66,
      "outputs": [
        {
          "output_type": "execute_result",
          "data": {
            "text/plain": [
              "<sklearn.metrics._plot.confusion_matrix.ConfusionMatrixDisplay at 0x7f52a1da2c10>"
            ]
          },
          "metadata": {},
          "execution_count": 66
        },
        {
          "output_type": "display_data",
          "data": {
            "text/plain": [
              "<Figure size 432x288 with 2 Axes>"
            ],
            "image/png": "[encoded data removed]"
          },
          "metadata": {}
        }
      ]
    },
    {
      "cell_type": "code",
      "source": [
        "print(\"The accuracy of the model on test set is {}\".format(accuracy(y_pred,y_test)*100))"
      ],
      "metadata": {
        "colab": {
          "base_uri": "https://localhost:8080/"
        },
        "id": "22wqn_tInAUl",
        "outputId": "032f2a7e-6021-40c7-ee55-c6aef84c70ae"
      },
      "execution_count": 68,
      "outputs": [
        {
          "output_type": "stream",
          "name": "stdout",
          "text": [
            "The accuracy of the model on test set is 97.62203228869896\n"
          ]
        }
      ]
    },
    {
      "cell_type": "markdown",
      "metadata": {
        "id": "UqctpW6fLIMR"
      },
      "source": [
        "**Dimensionality reduction using sklearn**"
      ]
    },
    {
      "cell_type": "code",
      "execution_count": null,
      "metadata": {
        "id": "T3RvP5gUcrQ-"
      },
      "outputs": [],
      "source": [
        "import numpy as np\n",
        "import sklearn.decomposition as decomp\n",
        "pca = decomp.PCA(n_components = 2)\n",
        "transformed = pca.fit_transform(train_set, y = train_set['activityID'])\n",
        "transformed_test = pca.fit_transform(test_set, y = test_set['activityID'])\n"
      ]
    },
    {
      "cell_type": "markdown",
      "metadata": {
        "id": "jNxOEJ6kOe0K"
      },
      "source": [
        "The obtained data from the decomposition of both the train set and the test set which is an array is stored in transformed and transformed_test."
      ]
    },
    {
      "cell_type": "markdown",
      "metadata": {
        "id": "v1XYCkz7X1D2"
      },
      "source": [
        "#**Logistic Regression**"
      ]
    },
    {
      "cell_type": "code",
      "execution_count": null,
      "metadata": {
        "colab": {
          "base_uri": "https://localhost:8080/"
        },
        "id": "imttuDf7HY7u",
        "outputId": "6b2bdbd6-b4ff-4862-843a-681bc92a3f05"
      },
      "outputs": [
        {
          "name": "stdout",
          "output_type": "stream",
          "text": [
            "The score of the model is 0.6038356342797604\n",
            "The accuracy of the model on test set is 60.465337132003796 while the accuracy on the train set is 60.38356342797604\n"
          ]
        }
      ],
      "source": [
        "from sklearn.linear_model import LogisticRegression\n",
        "\n",
        "y_train = train_set['activityID']\n",
        "x_train = transformed\n",
        "\n",
        "model_A = LogisticRegression(solver = 'sag', random_state = 0,max_iter = 10000)\n",
        "model_A.fit(x_train,y_train)\n",
        "\n",
        "y_test = test_set['activityID']\n",
        "\n",
        "y_test_pred = model_A.predict(transformed_test)\n",
        "y_train_pred = model_A.predict(x_train)\n",
        "\n",
        "model_score_A = model_A.score(x_train,y_train)\n",
        "acc_test = accuracy(y_test, y_test_pred)\n",
        "acc_train = accuracy(y_train, y_train_pred)\n",
        "\n",
        "print(\"The score of the model is {}\".format(model_score_A))\n",
        "print(\"The accuracy of the model on test set is {} while the accuracy on the train set is {}\".format(acc_test*100, acc_train*100))\n"
      ]
    },
    {
      "cell_type": "markdown",
      "metadata": {
        "id": "LWZ6saat6Cvf"
      },
      "source": [
        "*Logistic regression with sag solver*"
      ]
    },
    {
      "cell_type": "code",
      "execution_count": null,
      "metadata": {
        "colab": {
          "base_uri": "https://localhost:8080/"
        },
        "id": "_oYWcXUUGWyP",
        "outputId": "6ecf58c0-a110-42ef-bd4c-fe8356df38a5"
      },
      "outputs": [
        {
          "name": "stdout",
          "output_type": "stream",
          "text": [
            "The score of the model is 0.7144275853086741\n",
            "The accuracy of the model on test set is 71.66571699905033 while the accuracy on the train set is 71.44275853086741\n"
          ]
        }
      ],
      "source": [
        "y_train = train_set['activityID']\n",
        "x_train = transformed\n",
        "\n",
        "model_B = LogisticRegression( solver = 'newton-cg', random_state = 2, max_iter = 1000)\n",
        "model_B.fit(x_train,y_train)\n",
        "\n",
        "y_test = test_set['activityID']\n",
        "\n",
        "y_test_pred = model_B.predict(transformed_test)\n",
        "y_train_pred = model_B.predict(x_train)\n",
        "\n",
        "model_score_B = model_B.score(x_train,y_train)\n",
        "acc_test = accuracy(y_test, y_test_pred)\n",
        "acc_train = accuracy(y_train, y_train_pred)\n",
        "\n",
        "print(\"The score of the model is {}\".format(model_score_B))\n",
        "print(\"The accuracy of the model on test set is {} while the accuracy on the train set is {}\".format(acc_test*100, acc_train*100))\n"
      ]
    },
    {
      "cell_type": "markdown",
      "metadata": {
        "id": "hpn3ziAX6IJQ"
      },
      "source": [
        "*Logistic regression with newton-cg solver*"
      ]
    },
    {
      "cell_type": "code",
      "execution_count": null,
      "metadata": {
        "colab": {
          "base_uri": "https://localhost:8080/"
        },
        "id": "4fJfhrXzF3nO",
        "outputId": "e7eb52cb-a252-48cc-c9be-1779a97fb307"
      },
      "outputs": [
        {
          "name": "stdout",
          "output_type": "stream",
          "text": [
            "The score of the model is 0.510093774420422\n",
            "The accuracy of the model on test set is 50.91547958214625 while the accuracy on the train set is 51.0093774420422\n"
          ]
        }
      ],
      "source": [
        "y_train = train_set['activityID']\n",
        "x_train = transformed\n",
        "\n",
        "model_C = LogisticRegression(solver = 'liblinear', C= 1, random_state = 0)\n",
        "model_C.fit(x_train,y_train)\n",
        "\n",
        "y_test = test_set['activityID']\n",
        "\n",
        "y_test_pred = model_C.predict(transformed_test)\n",
        "y_train_pred = model_C.predict(x_train)\n",
        "\n",
        "model_score_C = model_C.score(x_train,y_train)\n",
        "acc_test = accuracy(y_test, y_test_pred)\n",
        "acc_train = accuracy(y_train, y_train_pred)\n",
        "\n",
        "print(\"The score of the model is {}\".format(model_score_C))\n",
        "print(\"The accuracy of the model on test set is {} while the accuracy on the train set is {}\".format(acc_test*100, acc_train*100))\n"
      ]
    },
    {
      "cell_type": "markdown",
      "metadata": {
        "id": "1cmgDTaa6Lts"
      },
      "source": [
        "*Logistic regression with libilinear solver with regularization of 1*"
      ]
    },
    {
      "cell_type": "code",
      "execution_count": null,
      "metadata": {
        "colab": {
          "base_uri": "https://localhost:8080/"
        },
        "id": "FLAfZvsEof3a",
        "outputId": "fd54642f-e57a-4218-bd43-a717e6b9ded1"
      },
      "outputs": [
        {
          "name": "stdout",
          "output_type": "stream",
          "text": [
            "The score of the model is 0.5120229877572284\n",
            "The accuracy of the model on test set is 51.17948717948718 while the accuracy on the train set is 51.202298775722845\n"
          ]
        }
      ],
      "source": [
        "\n",
        "y_train = train_set['activityID']\n",
        "x_train = transformed\n",
        "\n",
        "model = LogisticRegression(solver = 'liblinear', C= 2, random_state = 0)\n",
        "model.fit(x_train,y_train)\n",
        "\n",
        "y_test = test_set['activityID']\n",
        "\n",
        "y_test_pred = model.predict(transformed_test)\n",
        "y_train_pred = model.predict(x_train)\n",
        "\n",
        "model_score = model.score(x_train,y_train)\n",
        "acc_test = accuracy(y_test, y_test_pred)\n",
        "acc_train = accuracy(y_train, y_train_pred)\n",
        "\n",
        "print(\"The score of the model is {}\".format(model_score))\n",
        "print(\"The accuracy of the model on test set is {} while the accuracy on the train set is {}\".format(acc_test*100, acc_train*100))\n"
      ]
    },
    {
      "cell_type": "markdown",
      "metadata": {
        "id": "jIAp6KhP6R5M"
      },
      "source": [
        "*Logistic regression with libilinear solver with regularization of 2*"
      ]
    },
    {
      "cell_type": "markdown",
      "metadata": {
        "id": "LOEHch8lPn6M"
      },
      "source": [
        "A logistic regression model, model_A, with a sag solver converges with a max_iter value of 1000 gives a predictive accuracy of 60.9%\n",
        "\n",
        "Another logistic regression, model_B, with a newton-cg converges with a max_iter value of 10000 gives a predictive accuracy of 71.48%\n",
        "\n",
        "A logistic regression model with a liblinear solver  and a regularization value of 2.0 gives a predictive accuracy of 51.20%, while the same but with a regularization value of 1.0 gives a predictive accuracy of 51.1%.\n",
        "\n",
        "It can thus be seen that the best Logistic regression model created from this dataset, to be used for activityID prediction is model_B with a predictive accuracy of 71.48%\n",
        "\n",
        "\n"
      ]
    },
    {
      "cell_type": "markdown",
      "metadata": {
        "id": "Odi1pqTwgeMR"
      },
      "source": [
        "#**Clustering**"
      ]
    },
    {
      "cell_type": "code",
      "execution_count": null,
      "metadata": {
        "id": "o4-GbbazNHDn"
      },
      "outputs": [],
      "source": [
        "from sklearn import cluster\n",
        "#Initialises clusters\n",
        "K = 12\n",
        "clf = cluster.KMeans(init = 'random', n_clusters = K)\n",
        "#Fits with training data\n",
        "clf.fit_transform(transformed)\n",
        "\n",
        "test_predict = clf.predict(transformed_test)"
      ]
    },
    {
      "cell_type": "code",
      "execution_count": null,
      "metadata": {
        "id": "P9-75IWDRT7U"
      },
      "outputs": [],
      "source": [
        "from collections import defaultdict\n",
        "\n",
        "def divide(data, labels):\n",
        "    \"\"\"Groups data based on the predicted cluster\"\"\"\n",
        "    x_1 = defaultdict(list)\n",
        "    x_2 = defaultdict(list)\n",
        "\n",
        "    for a,b in zip(data, labels):\n",
        "        x = a[0]\n",
        "        y = a[1]\n",
        "\n",
        "        x_1[b].append(x)\n",
        "        x_2[b].append(y)\n",
        "        \n",
        "    return x_1,x_2"
      ]
    },
    {
      "cell_type": "code",
      "execution_count": null,
      "metadata": {
        "id": "27ZbipQJUqL8"
      },
      "outputs": [],
      "source": [
        "#Creates clusters\n",
        "x_clusters,y_clusters = divide(transformed_test, test_predict)"
      ]
    },
    {
      "cell_type": "code",
      "execution_count": null,
      "metadata": {
        "colab": {
          "base_uri": "https://localhost:8080/",
          "height": 286
        },
        "id": "yyIjpT2yU3y3",
        "outputId": "b58c0e0a-0f41-4844-f411-256a56223917"
      },
      "outputs": [
        {
          "data": {
            "text/plain": [
              "<matplotlib.collections.PathCollection at 0x7f03ec720710>"
            ]
          },
          "execution_count": 41,
          "metadata": {},
          "output_type": "execute_result"
        },
        {
          "data": {
            "image/png": "[encoded data removed]",
            "text/plain": [
              "<Figure size 432x288 with 1 Axes>"
            ]
          },
          "metadata": {},
          "output_type": "display_data"
        }
      ],
      "source": [
        "#Making plots to each of the labels obtained.\n",
        "\n",
        "plt.scatter(x_clusters[0], y_clusters[0])\n",
        "plt.scatter(x_clusters[1], y_clusters[1])\n",
        "plt.scatter(x_clusters[2], y_clusters[2])\n",
        "plt.scatter(x_clusters[3], y_clusters[3])\n",
        "plt.scatter(x_clusters[4], y_clusters[4])\n",
        "plt.scatter(x_clusters[5], y_clusters[5])\n",
        "plt.scatter(x_clusters[6], y_clusters[6])\n",
        "plt.scatter(x_clusters[7], y_clusters[7])\n",
        "plt.scatter(x_clusters[8], y_clusters[8])\n",
        "plt.scatter(x_clusters[9], y_clusters[9])\n",
        "plt.scatter(x_clusters[10], y_clusters[10])\n",
        "plt.scatter(x_clusters[11], y_clusters[11])\n"
      ]
    },
    {
      "cell_type": "code",
      "execution_count": null,
      "metadata": {
        "colab": {
          "base_uri": "https://localhost:8080/"
        },
        "id": "cq0-3DJ4X7uC",
        "outputId": "36c5eed1-cd01-48f5-894e-f6540d9a883f"
      },
      "outputs": [
        {
          "data": {
            "text/plain": [
              "0.512193996528695"
            ]
          },
          "execution_count": 42,
          "metadata": {},
          "output_type": "execute_result"
        }
      ],
      "source": [
        "#assessing the quality of the cluster\n",
        "\n",
        "from sklearn.metrics.cluster import silhouette_score\n",
        "s = silhouette_score(transformed_test, clf.predict(transformed_test))\n",
        "s"
      ]
    },
    {
      "cell_type": "code",
      "execution_count": null,
      "metadata": {
        "colab": {
          "base_uri": "https://localhost:8080/"
        },
        "id": "G4LxhAteqWFc",
        "outputId": "af7f3b85-9c3a-4111-8153-cd3640a1f1ca"
      },
      "outputs": [
        {
          "data": {
            "text/plain": [
              "8.316130934827484"
            ]
          },
          "execution_count": 43,
          "metadata": {},
          "output_type": "execute_result"
        }
      ],
      "source": [
        "#calculating the accuracy of the clustering model\n",
        "\n",
        "acc = accuracy(conv_to_clusternumbers(test_set['activityID']), test_predict)*100\n",
        "acc"
      ]
    },
    {
      "cell_type": "markdown",
      "metadata": {
        "id": "eh-70erRVVVb"
      },
      "source": [
        "The quality of the cluster created was estimated using the sihouette score. The silhouette score of 0.51, shows that the cluster is not a perfect one, and there exists mismatch in the selection of clusters for the data points.\n",
        "\n",
        "Furthermore, the accuracy of the K-means cluster was evaluated by comparing the predicted values of the test set data with the real value, an accuracy of 8.316% shows that the K-means model has a really low accuracy and cannot be relied upon to a certain degree of certainty."
      ]
    },
    {
      "cell_type": "markdown",
      "metadata": {
        "id": "zIq9nGYbgqdB"
      },
      "source": [
        "#**Model Selection**"
      ]
    },
    {
      "cell_type": "markdown",
      "metadata": {
        "id": "sQ9BkMFNkMng"
      },
      "source": [
        "After testing two modelling techniques, such as the Logistic Regression and the K-means clustering. We can make a selection based on the predictive accuracy of each model using the test set data as a standard.\n",
        "\n",
        "The best form of the logistic regression model gives a predictive accuracy of approximately 71% whille the K-means clustering gives an accuracy of 7%. \n",
        "\n",
        "It can thus be seen that the logistic regression model,model_B,can be relied upon to make predictions to a degree of certainty."
      ]
    },
    {
      "cell_type": "markdown",
      "source": [
        "# **CONCLUSIONS AND RECOMMENDATIONS**"
      ],
      "metadata": {
        "id": "3lW8rZO_wFLr"
      }
    },
    {
      "cell_type": "markdown",
      "metadata": {
        "id": "NjPLlGPLfd7V"
      },
      "source": [
        "Conclusions that can be drawn from the data analysis of the PAMAP2 Dataset include:\n",
        "\n",
        "- Strenous activities generally cause an high heart beat rate in the range 120-200bpm.\n",
        "- The least stressful activities have lower heart beat rates between 80-120 bpm\n",
        "- The heart rate alone is not a reliable independent variable to accurately predict the exact physical activity a subject performs. This is because there are similar heart rates for activities such as running and rope jumping. \n",
        "- XGBoost model is the best model for predicting the exact physical activity from sensory measurements.\n"
      ]
    },
    {
      "cell_type": "markdown",
      "metadata": {
        "id": "j-QFEjkIgLte"
      },
      "source": [
        "**Recommendations**\n",
        "\n",
        "- To improve the reliability of the model, it is advised that more measurements are taken to help distinguish similar activities.\n",
        "    - running can include distance covered to distinguish from rope jumping, this can be done with GPS sensor.\n",
        "    - Ascending/descending the stairs can have an altitude measurement which is positive for ascension and negative for descension.\n",
        "    - More sensors can also be added to body parts, such as on the back,thighs. This provides more sensory measurements with which activities could be better distinguished.\n"
      ]
    },
    {
      "cell_type": "code",
      "execution_count": null,
      "metadata": {
        "colab": {
          "base_uri": "https://localhost:8080/"
        },
        "id": "Rc_7VQd48rUK",
        "outputId": "31bb5fe1-59ec-488e-8498-98150cd9aaa9"
      },
      "outputs": [
        {
          "name": "stderr",
          "output_type": "stream",
          "text": [
            "/usr/local/lib/python3.7/dist-packages/nbformat/current.py:19: UserWarning: nbformat.current is deprecated.\n",
            "\n",
            "- use nbformat for read/write/validate public API\n",
            "- use nbformat.vX directly to composing notebooks of a particular version\n",
            "\n",
            "  \"\"\")\n"
          ]
        },
        {
          "name": "stdout",
          "output_type": "stream",
          "text": [
            "Submission length is 2696\n"
          ]
        }
      ],
      "source": [
        "##This code will word count all of the markdown cells in the notebook saved at filepath\n",
        "##Running it before providing any answers shows that the questions have a word count of 437\n",
        "\n",
        "import io\n",
        "from nbformat import current\n",
        "\n",
        "filepath=\"/content/drive/My Drive/Colab Notebooks/dsrm proj.ipynb\"\n",
        "#filepath=\"NLassignment2021.ipynb\"\n",
        "question_count=10\n",
        "\n",
        "with io.open(filepath, 'r', encoding='utf-8') as f:\n",
        "    nb = current.read(f, 'json')\n",
        "\n",
        "word_count = 0\n",
        "for cell in nb.worksheets[0].cells:\n",
        "    if cell.cell_type == \"markdown\":\n",
        "        word_count += len(cell['source'].replace('#', '').lstrip().split(' '))\n",
        "print(\"Submission length is {}\".format(word_count-question_count))"
      ]
    },
    {
      "cell_type": "code",
      "execution_count": null,
      "metadata": {
        "id": "De3pxtRRB8Mw"
      },
      "outputs": [],
      "source": []
    }
  ],
  "metadata": {
    "colab": {
      "collapsed_sections": [],
      "machine_shape": "hm",
      "provenance": [],
      "toc_visible": true
    },
    "kernelspec": {
      "display_name": "Python 3.8.10 ('temp_env': venv)",
      "language": "python",
      "name": "python3"
    },
    "language_info": {
      "codemirror_mode": {
        "name": "ipython",
        "version": 3
      },
      "file_extension": ".py",
      "mimetype": "text/x-python",
      "name": "python",
      "nbconvert_exporter": "python",
      "pygments_lexer": "ipython3",
      "version": "3.8.10"
    },
    "vscode": {
      "interpreter": {
        "hash": "6b9dce6c88c4b97f6cedb88d3aef951c00448ff4227d10b5a0bb7097e9eb86df"
      }
    },
    "accelerator": "GPU",
    "gpuClass": "standard"
  },
  "nbformat": 4,
  "nbformat_minor": 0
}